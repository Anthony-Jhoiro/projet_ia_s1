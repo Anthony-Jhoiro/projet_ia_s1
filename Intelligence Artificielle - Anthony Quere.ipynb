{
 "cells": [
  {
   "cell_type": "markdown",
   "source": [
    "---\n",
    "\n",
    "> This is a Jupyter notebook builded is a python project with the code available on GitHub.\n",
    "> (https://github.com/Anthony-Jhoiro/projet_ia_s1).\n",
    "> Only the main functions will be presented in this file. If you want to see the implementation\n",
    "> of those functions, I recommand checking directly the repository.\n",
    "\n",
    "## Préparation des données\n",
    "> Erratum\n",
    ">\n",
    "> Scikit ne supporte que les valeurs continuent pour les différents algorithmes utilisés. Par conséquent les champ sde catégories ont\n",
    "> été passés en champs booléens puis les champs booléens sont passé en 0 et 1. C'est pourquoi nos retrouvons dans nos\n",
    "> centre des valeurs continues pour des champs booléens."
   ],
   "metadata": {
    "collapsed": false
   }
  },
  {
   "cell_type": "code",
   "execution_count": 25,
   "outputs": [],
   "source": [
    "from dataset_utils import add_score_g3_classes_columns, add_ratio_g1pg2_column\n",
    "\n",
    "import csv_parser\n",
    "import pandas as pd\n",
    "import student_dataset as sd\n",
    "\n",
    "# Define float output\n",
    "pd.options.display.float_format = '{:,.4f}'.format\n",
    "\n",
    "# Load DataFrame\n",
    "mat_original = csv_parser.parse_student_csv(\"student-mat.csv\", separator=\";\",\n",
    "                                            cast_types=sd.dataset_types)\n",
    "por_original = csv_parser.parse_student_csv(\"student-por.csv\", separator=\";\",\n",
    "                                            cast_types=sd.dataset_types)\n",
    "\n",
    "# Create missing columns\n",
    "add_score_g3_classes_columns(mat_original)\n",
    "add_score_g3_classes_columns(por_original)\n",
    "add_ratio_g1pg2_column(mat_original)\n",
    "add_ratio_g1pg2_column(por_original)\n",
    "\n",
    "mat_formatted = csv_parser.format_dataset(mat_original, sd.target_columns, sd.string_fields, sd.boolean_fields)\n",
    "por_formatted = csv_parser.format_dataset(por_original, sd.target_columns, sd.string_fields, sd.boolean_fields)"
   ],
   "metadata": {
    "collapsed": false,
    "pycharm": {
     "name": "#%%\n"
    }
   }
  },
  {
   "cell_type": "markdown",
   "source": [
    "## Partie 1 - Analyse des données\n",
    "\n",
    "### Les écoles\n",
    "\n",
    "__Les élèves de mathématique__\n",
    "\n",
    "![Plot plots/plot_1_school.svg](used_plots/plot_school.mat.png)\n",
    "\n",
    "__Les élèves de portugais__\n",
    "\n",
    "![Plot plots/plot_1_school.svg](used_plots/plot_school.por.png)\n",
    "\n",
    "\n",
    "L'attribut \"school\" nous informe l'école des élèves.\n",
    "Nous pouvons constater que la grande majorité des élèves viennent de l'école Gabriel Pereira.\n",
    "Les analyse seront donc bien plus influencées par les élèves de cette école et ne pourrait donc pas correspondre aux\n",
    "élèves de l'autre école.\n",
    "\n",
    "### L'adresse\n",
    "__Les élèves de mathématique__\n",
    "\n",
    "![Plot plots/plot_1_school.svg](used_plots/plot_address.mat.png)\n",
    "\n",
    "__Les élèves de portugais__\n",
    "![Plot plots/plot_1_school.svg](used_plots/plot_address.por.png)\n",
    "\n",
    "L'attribut \"address\" nous renseigne sur le milieu dans lequel les élèves vivent. Ici, nous pouvons constatez que la\n",
    "majorité des élèves vivent en milieu Urbain, que ce soit pour les cous de portugais ou les cours de mathématique.\n",
    "\n",
    "\n",
    "### La situation des parents\n",
    "__Les élèves de mathématique__\n",
    "\n",
    "![Plot plots/plot_1_school.svg](used_plots/plot_Pstatus.mat.png)\n",
    "\n",
    "__Les élèves de portugais__\n",
    "\n",
    "![Plot plots/plot_1_school.svg](used_plots/plot_Pstatus.por.png)\n",
    "\n",
    "L'attribut \"Pstatus\" prend pour valeur T si les parents de l'élève vivent ensemble et A dans les autres cas. La\n",
    "majorité des parents des élèves vivent ensemble.\n",
    "\n",
    "### Le sexe des élèves\n",
    "__Les élèves de mathématique__\n",
    "\n",
    "![Plot plots/plot_1_school.svg](used_plots/plot_sex.mat.png)\n",
    "\n",
    "__Les élèves de portugais__\n",
    "\n",
    "![Plot plots/plot_1_school.svg](used_plots/plot_sex.por.png)\n",
    "\n",
    "L'attribut \"sex\" nous renseigne sur le sexe de l'élève. Ici, nous avons une majorité de fille parmi les élève ce qui est\n",
    "conforme à la répartition en France cette année d'après cette publication de l'INSEE\n",
    "(https://www.insee.fr/en/statistiques/2382597?sommaire=2382613).\n",
    "\n",
    "### La note G3 (avec les classes)\n",
    "__Les élèves de mathématique__\n",
    "\n",
    "![Plot plots/plot_1_school.svg](used_plots/plot_score_G3_classes.mat.png)\n",
    "\n",
    "__Les élèves de portugais__\n",
    "\n",
    "![Plot plots/plot_1_school.svg](used_plots/plot_score_G3_classes.por.png)\n",
    "\n",
    "\n",
    "Les notes sont globalement faibles dans les deux matières même si les notes des élèves de potugais sont généralement\n",
    "plus élevées que celles des élèves de mathématique. (moins de F mais plus de D et de C).\n",
    "\n",
    "\n",
    "## Partie 2 - Segmentation des étudiants\n",
    "\n",
    "### Préparation du jeu de données\n",
    "On retire les colonnes ciblées car nous souhaitons par la suite caractériser nos clusters par rapport à ces attributs.\n",
    "Les attributs G1 et G2 sont également supprimés car l'attribut ratio_G1+G2 est obtenu par ces colonnes, ce qui fausse\n",
    "donc le résultat.\n"
   ],
   "metadata": {
    "collapsed": false
   }
  },
  {
   "cell_type": "code",
   "execution_count": 26,
   "outputs": [],
   "source": [
    "excluded_columns = [\n",
    "    \"G1\",\n",
    "    \"G2\",\n",
    "    \"G3\",\n",
    "    \"ratio_G1+G2\",\n",
    "    \"score_G3_classes_A\",\n",
    "    \"score_G3_classes_B\",\n",
    "    \"score_G3_classes_C\",\n",
    "    \"score_G3_classes_D\",\n",
    "    \"score_G3_classes_F\",\n",
    "]"
   ],
   "metadata": {
    "collapsed": false,
    "pycharm": {
     "name": "#%%\n"
    }
   }
  },
  {
   "cell_type": "markdown",
   "source": [
    "### Pour les élèves de mathématique"
   ],
   "metadata": {
    "collapsed": false,
    "pycharm": {
     "name": "#%% md\n"
    }
   }
  },
  {
   "cell_type": "code",
   "execution_count": 27,
   "outputs": [],
   "source": [
    "dataset_for_predictions = mat_formatted.copy()\n",
    "dataset_for_predictions = csv_parser.drop_columns(dataset_for_predictions, excluded_columns)\n",
    "\n",
    "# Nous souhaitons travailler avec 2 clusters à chaque fois.\n",
    "cluster_count = 3"
   ],
   "metadata": {
    "collapsed": false,
    "pycharm": {
     "name": "#%%\n"
    }
   }
  },
  {
   "cell_type": "markdown",
   "source": [
    "#### Algorithme du Kmean\n",
    "\n",
    "En utilisant l'algorithme du knn sur notre jeu de donnée, nous optenons 3 clusters C0, C1 et C2 dont voici les centres :\n"
   ],
   "metadata": {
    "collapsed": false
   }
  },
  {
   "cell_type": "code",
   "execution_count": 28,
   "outputs": [
    {
     "data": {
      "text/plain": "                field  Centre de C0  Centre de C1  Centre de C2\n0                 age       16.5566       17.1605       17.8000\n1                Medu        2.6731        3.0247        3.0000\n2                Fedu        2.5081        2.5432        3.0000\n3            failures        0.2977        0.4691        0.4000\n4           schoolsup        0.1327        0.1111        0.2000\n5              famsup        0.6052        0.6420        0.6000\n6                paid        0.4563        0.4691        0.4000\n7          activities        0.5178        0.4815        0.4000\n8             nursery        0.7864        0.8272        0.8000\n9              higher        0.9482        0.9630        0.8000\n10           internet        0.8123        0.9012        1.0000\n11           romantic        0.2977        0.4444        0.8000\n12             famrel        3.9806        3.7901        4.2000\n13           freetime        3.2201        3.3580        2.2000\n14              goout        3.0680        3.2963        2.6000\n15               Dalc        1.4207        1.7160        1.4000\n16               Walc        2.1877        2.7037        2.0000\n17             health        3.5728        3.4815        3.6000\n18           absences        2.6052       14.6543       52.6000\n19          school_GP        0.8706        0.9259        1.0000\n20          school_MS        0.1294        0.0741       -0.0000\n21          address_R        0.2330        0.1728        0.4000\n22          address_U        0.7670        0.8272        0.6000\n23        famsize_GT3        0.7282        0.6420        0.8000\n24        famsize_LE3        0.2718        0.3580        0.2000\n25          Pstatus_A        0.0841        0.1728        0.2000\n26          Pstatus_T        0.9159        0.8272        0.8000\n27       Mjob_at_home        0.1586        0.1235        0.0000\n28        Mjob_health        0.0906        0.0741        0.0000\n29         Mjob_other        0.3592        0.3210        0.8000\n30      Mjob_services        0.2460        0.3333        0.0000\n31       Mjob_teacher        0.1456        0.1481        0.2000\n32       Fjob_at_home        0.0518        0.0494       -0.0000\n33        Fjob_health        0.0421        0.0617        0.0000\n34         Fjob_other        0.5340        0.6173        0.4000\n35      Fjob_services        0.2945        0.2099        0.6000\n36       Fjob_teacher        0.0777        0.0617        0.0000\n37      reason_course        0.3981        0.2716        0.0000\n38        reason_home        0.2621        0.3210        0.4000\n39       reason_other        0.0841        0.1235        0.0000\n40  reason_reputation        0.2557        0.2840        0.6000\n41    guardian_father        0.2460        0.1728        0.0000\n42    guardian_mother        0.6926        0.6914        0.6000\n43     guardian_other        0.0615        0.1358        0.4000\n44       traveltime_1        0.6343        0.7160        0.6000\n45       traveltime_2        0.2783        0.2346        0.4000\n46       traveltime_3        0.0647        0.0370       -0.0000\n47       traveltime_4        0.0227        0.0123       -0.0000\n48        studytime_1        0.2718        0.2469        0.2000\n49        studytime_2        0.4693        0.6173        0.6000\n50        studytime_3        0.1812        0.0988        0.2000\n51        studytime_4        0.0777        0.0370       -0.0000\n52              sex_F        0.5178        0.5432        0.8000\n53              sex_M        0.4822        0.4568        0.2000",
      "text/html": "<div>\n<style scoped>\n    .dataframe tbody tr th:only-of-type {\n        vertical-align: middle;\n    }\n\n    .dataframe tbody tr th {\n        vertical-align: top;\n    }\n\n    .dataframe thead th {\n        text-align: right;\n    }\n</style>\n<table border=\"1\" class=\"dataframe\">\n  <thead>\n    <tr style=\"text-align: right;\">\n      <th></th>\n      <th>field</th>\n      <th>Centre de C0</th>\n      <th>Centre de C1</th>\n      <th>Centre de C2</th>\n    </tr>\n  </thead>\n  <tbody>\n    <tr>\n      <th>0</th>\n      <td>age</td>\n      <td>16.5566</td>\n      <td>17.1605</td>\n      <td>17.8000</td>\n    </tr>\n    <tr>\n      <th>1</th>\n      <td>Medu</td>\n      <td>2.6731</td>\n      <td>3.0247</td>\n      <td>3.0000</td>\n    </tr>\n    <tr>\n      <th>2</th>\n      <td>Fedu</td>\n      <td>2.5081</td>\n      <td>2.5432</td>\n      <td>3.0000</td>\n    </tr>\n    <tr>\n      <th>3</th>\n      <td>failures</td>\n      <td>0.2977</td>\n      <td>0.4691</td>\n      <td>0.4000</td>\n    </tr>\n    <tr>\n      <th>4</th>\n      <td>schoolsup</td>\n      <td>0.1327</td>\n      <td>0.1111</td>\n      <td>0.2000</td>\n    </tr>\n    <tr>\n      <th>5</th>\n      <td>famsup</td>\n      <td>0.6052</td>\n      <td>0.6420</td>\n      <td>0.6000</td>\n    </tr>\n    <tr>\n      <th>6</th>\n      <td>paid</td>\n      <td>0.4563</td>\n      <td>0.4691</td>\n      <td>0.4000</td>\n    </tr>\n    <tr>\n      <th>7</th>\n      <td>activities</td>\n      <td>0.5178</td>\n      <td>0.4815</td>\n      <td>0.4000</td>\n    </tr>\n    <tr>\n      <th>8</th>\n      <td>nursery</td>\n      <td>0.7864</td>\n      <td>0.8272</td>\n      <td>0.8000</td>\n    </tr>\n    <tr>\n      <th>9</th>\n      <td>higher</td>\n      <td>0.9482</td>\n      <td>0.9630</td>\n      <td>0.8000</td>\n    </tr>\n    <tr>\n      <th>10</th>\n      <td>internet</td>\n      <td>0.8123</td>\n      <td>0.9012</td>\n      <td>1.0000</td>\n    </tr>\n    <tr>\n      <th>11</th>\n      <td>romantic</td>\n      <td>0.2977</td>\n      <td>0.4444</td>\n      <td>0.8000</td>\n    </tr>\n    <tr>\n      <th>12</th>\n      <td>famrel</td>\n      <td>3.9806</td>\n      <td>3.7901</td>\n      <td>4.2000</td>\n    </tr>\n    <tr>\n      <th>13</th>\n      <td>freetime</td>\n      <td>3.2201</td>\n      <td>3.3580</td>\n      <td>2.2000</td>\n    </tr>\n    <tr>\n      <th>14</th>\n      <td>goout</td>\n      <td>3.0680</td>\n      <td>3.2963</td>\n      <td>2.6000</td>\n    </tr>\n    <tr>\n      <th>15</th>\n      <td>Dalc</td>\n      <td>1.4207</td>\n      <td>1.7160</td>\n      <td>1.4000</td>\n    </tr>\n    <tr>\n      <th>16</th>\n      <td>Walc</td>\n      <td>2.1877</td>\n      <td>2.7037</td>\n      <td>2.0000</td>\n    </tr>\n    <tr>\n      <th>17</th>\n      <td>health</td>\n      <td>3.5728</td>\n      <td>3.4815</td>\n      <td>3.6000</td>\n    </tr>\n    <tr>\n      <th>18</th>\n      <td>absences</td>\n      <td>2.6052</td>\n      <td>14.6543</td>\n      <td>52.6000</td>\n    </tr>\n    <tr>\n      <th>19</th>\n      <td>school_GP</td>\n      <td>0.8706</td>\n      <td>0.9259</td>\n      <td>1.0000</td>\n    </tr>\n    <tr>\n      <th>20</th>\n      <td>school_MS</td>\n      <td>0.1294</td>\n      <td>0.0741</td>\n      <td>-0.0000</td>\n    </tr>\n    <tr>\n      <th>21</th>\n      <td>address_R</td>\n      <td>0.2330</td>\n      <td>0.1728</td>\n      <td>0.4000</td>\n    </tr>\n    <tr>\n      <th>22</th>\n      <td>address_U</td>\n      <td>0.7670</td>\n      <td>0.8272</td>\n      <td>0.6000</td>\n    </tr>\n    <tr>\n      <th>23</th>\n      <td>famsize_GT3</td>\n      <td>0.7282</td>\n      <td>0.6420</td>\n      <td>0.8000</td>\n    </tr>\n    <tr>\n      <th>24</th>\n      <td>famsize_LE3</td>\n      <td>0.2718</td>\n      <td>0.3580</td>\n      <td>0.2000</td>\n    </tr>\n    <tr>\n      <th>25</th>\n      <td>Pstatus_A</td>\n      <td>0.0841</td>\n      <td>0.1728</td>\n      <td>0.2000</td>\n    </tr>\n    <tr>\n      <th>26</th>\n      <td>Pstatus_T</td>\n      <td>0.9159</td>\n      <td>0.8272</td>\n      <td>0.8000</td>\n    </tr>\n    <tr>\n      <th>27</th>\n      <td>Mjob_at_home</td>\n      <td>0.1586</td>\n      <td>0.1235</td>\n      <td>0.0000</td>\n    </tr>\n    <tr>\n      <th>28</th>\n      <td>Mjob_health</td>\n      <td>0.0906</td>\n      <td>0.0741</td>\n      <td>0.0000</td>\n    </tr>\n    <tr>\n      <th>29</th>\n      <td>Mjob_other</td>\n      <td>0.3592</td>\n      <td>0.3210</td>\n      <td>0.8000</td>\n    </tr>\n    <tr>\n      <th>30</th>\n      <td>Mjob_services</td>\n      <td>0.2460</td>\n      <td>0.3333</td>\n      <td>0.0000</td>\n    </tr>\n    <tr>\n      <th>31</th>\n      <td>Mjob_teacher</td>\n      <td>0.1456</td>\n      <td>0.1481</td>\n      <td>0.2000</td>\n    </tr>\n    <tr>\n      <th>32</th>\n      <td>Fjob_at_home</td>\n      <td>0.0518</td>\n      <td>0.0494</td>\n      <td>-0.0000</td>\n    </tr>\n    <tr>\n      <th>33</th>\n      <td>Fjob_health</td>\n      <td>0.0421</td>\n      <td>0.0617</td>\n      <td>0.0000</td>\n    </tr>\n    <tr>\n      <th>34</th>\n      <td>Fjob_other</td>\n      <td>0.5340</td>\n      <td>0.6173</td>\n      <td>0.4000</td>\n    </tr>\n    <tr>\n      <th>35</th>\n      <td>Fjob_services</td>\n      <td>0.2945</td>\n      <td>0.2099</td>\n      <td>0.6000</td>\n    </tr>\n    <tr>\n      <th>36</th>\n      <td>Fjob_teacher</td>\n      <td>0.0777</td>\n      <td>0.0617</td>\n      <td>0.0000</td>\n    </tr>\n    <tr>\n      <th>37</th>\n      <td>reason_course</td>\n      <td>0.3981</td>\n      <td>0.2716</td>\n      <td>0.0000</td>\n    </tr>\n    <tr>\n      <th>38</th>\n      <td>reason_home</td>\n      <td>0.2621</td>\n      <td>0.3210</td>\n      <td>0.4000</td>\n    </tr>\n    <tr>\n      <th>39</th>\n      <td>reason_other</td>\n      <td>0.0841</td>\n      <td>0.1235</td>\n      <td>0.0000</td>\n    </tr>\n    <tr>\n      <th>40</th>\n      <td>reason_reputation</td>\n      <td>0.2557</td>\n      <td>0.2840</td>\n      <td>0.6000</td>\n    </tr>\n    <tr>\n      <th>41</th>\n      <td>guardian_father</td>\n      <td>0.2460</td>\n      <td>0.1728</td>\n      <td>0.0000</td>\n    </tr>\n    <tr>\n      <th>42</th>\n      <td>guardian_mother</td>\n      <td>0.6926</td>\n      <td>0.6914</td>\n      <td>0.6000</td>\n    </tr>\n    <tr>\n      <th>43</th>\n      <td>guardian_other</td>\n      <td>0.0615</td>\n      <td>0.1358</td>\n      <td>0.4000</td>\n    </tr>\n    <tr>\n      <th>44</th>\n      <td>traveltime_1</td>\n      <td>0.6343</td>\n      <td>0.7160</td>\n      <td>0.6000</td>\n    </tr>\n    <tr>\n      <th>45</th>\n      <td>traveltime_2</td>\n      <td>0.2783</td>\n      <td>0.2346</td>\n      <td>0.4000</td>\n    </tr>\n    <tr>\n      <th>46</th>\n      <td>traveltime_3</td>\n      <td>0.0647</td>\n      <td>0.0370</td>\n      <td>-0.0000</td>\n    </tr>\n    <tr>\n      <th>47</th>\n      <td>traveltime_4</td>\n      <td>0.0227</td>\n      <td>0.0123</td>\n      <td>-0.0000</td>\n    </tr>\n    <tr>\n      <th>48</th>\n      <td>studytime_1</td>\n      <td>0.2718</td>\n      <td>0.2469</td>\n      <td>0.2000</td>\n    </tr>\n    <tr>\n      <th>49</th>\n      <td>studytime_2</td>\n      <td>0.4693</td>\n      <td>0.6173</td>\n      <td>0.6000</td>\n    </tr>\n    <tr>\n      <th>50</th>\n      <td>studytime_3</td>\n      <td>0.1812</td>\n      <td>0.0988</td>\n      <td>0.2000</td>\n    </tr>\n    <tr>\n      <th>51</th>\n      <td>studytime_4</td>\n      <td>0.0777</td>\n      <td>0.0370</td>\n      <td>-0.0000</td>\n    </tr>\n    <tr>\n      <th>52</th>\n      <td>sex_F</td>\n      <td>0.5178</td>\n      <td>0.5432</td>\n      <td>0.8000</td>\n    </tr>\n    <tr>\n      <th>53</th>\n      <td>sex_M</td>\n      <td>0.4822</td>\n      <td>0.4568</td>\n      <td>0.2000</td>\n    </tr>\n  </tbody>\n</table>\n</div>"
     },
     "execution_count": 28,
     "metadata": {},
     "output_type": "execute_result"
    }
   ],
   "source": [
    "from sklearn.cluster import KMeans\n",
    "\n",
    "\n",
    "knn_predictions = KMeans(n_clusters=cluster_count, random_state=1)\n",
    "knn_predictions.fit(dataset_for_predictions)\n",
    "\n",
    "pd.DataFrame({\n",
    "    \"field\": knn_predictions.feature_names_in_,\n",
    "    \"Centre de C0\": knn_predictions.cluster_centers_[0],\n",
    "    \"Centre de C1\": knn_predictions.cluster_centers_[1],\n",
    "    \"Centre de C2\": knn_predictions.cluster_centers_[2],\n",
    "})\n"
   ],
   "metadata": {
    "collapsed": false,
    "pycharm": {
     "name": "#%%\n"
    }
   }
  },
  {
   "cell_type": "markdown",
   "source": [
    "LE tableau ci dessus nous présente les différents attributs utilisés ainsi que leurs valeurs pour les centres de nos 3 clusters.\n",
    "\n",
    "Interessons nous maintenant à la répartition des données au sein de ces clusters."
   ],
   "metadata": {
    "collapsed": false
   }
  },
  {
   "cell_type": "code",
   "execution_count": 29,
   "outputs": [
    {
     "data": {
      "text/plain": "  Cluster  Nombre d'éléments\n0      C0                309\n1      C1                 81\n2      C2                  5",
      "text/html": "<div>\n<style scoped>\n    .dataframe tbody tr th:only-of-type {\n        vertical-align: middle;\n    }\n\n    .dataframe tbody tr th {\n        vertical-align: top;\n    }\n\n    .dataframe thead th {\n        text-align: right;\n    }\n</style>\n<table border=\"1\" class=\"dataframe\">\n  <thead>\n    <tr style=\"text-align: right;\">\n      <th></th>\n      <th>Cluster</th>\n      <th>Nombre d'éléments</th>\n    </tr>\n  </thead>\n  <tbody>\n    <tr>\n      <th>0</th>\n      <td>C0</td>\n      <td>309</td>\n    </tr>\n    <tr>\n      <th>1</th>\n      <td>C1</td>\n      <td>81</td>\n    </tr>\n    <tr>\n      <th>2</th>\n      <td>C2</td>\n      <td>5</td>\n    </tr>\n  </tbody>\n</table>\n</div>"
     },
     "execution_count": 29,
     "metadata": {},
     "output_type": "execute_result"
    }
   ],
   "source": [
    "mat_original['knn_cluster'] = knn_predictions.labels_\n",
    "\n",
    "knn_c0 = dataset_for_predictions[mat_original['knn_cluster'] == 0]\n",
    "knn_c1 = dataset_for_predictions[mat_original['knn_cluster'] == 1]\n",
    "knn_c2 = dataset_for_predictions[mat_original['knn_cluster'] == 2]\n",
    "\n",
    "\n",
    "pd.DataFrame({\n",
    "    \"Cluster\": [\"C0\", \"C1\", \"C2\"],\n",
    "    \"Nombre d'éléments\": [len(knn_c0), len(knn_c1), len(knn_c2)],\n",
    "})"
   ],
   "metadata": {
    "collapsed": false,
    "pycharm": {
     "name": "#%%\n"
    }
   }
  },
  {
   "cell_type": "markdown",
   "source": [
    "Le tableau ci dessus nous présente la quantité de donnée correspondant à chaque cluster.\n",
    "Nous pouvons constater, que le cluster C0 est nettement plus imposant que les deux autres (il contient 98% de données).\n",
    "Les prédictions résultantes en seront impacté.\n",
    "\n",
    "#### Clustering hierarchique\n",
    "\n",
    "Une autre méthode pour clusteriser nos données est le clustering hierarchique."
   ],
   "metadata": {
    "collapsed": false
   }
  },
  {
   "cell_type": "code",
   "execution_count": 30,
   "outputs": [
    {
     "data": {
      "text/plain": "                   Centre de C0  Centre de C1  Centre de C2\nage                     16.5596       17.3175       17.8000\nMedu                     2.7095        2.9365        3.0000\nFedu                     2.5138        2.5238        3.0000\nfailures                 0.2844        0.5873        0.4000\nschoolsup                0.1315        0.1111        0.2000\nfamsup                   0.6055        0.6508        0.6000\npaid                     0.4587        0.4603        0.4000\nactivities               0.5168        0.4762        0.4000\nnursery                  0.7890        0.8254        0.8000\nhigher                   0.9511        0.9524        0.8000\ninternet                 0.8165        0.9048        1.0000\nromantic                 0.3058        0.4444        0.8000\nfamrel                   3.9755        3.7619        4.2000\nfreetime                 3.2232        3.3810        2.2000\ngoout                    3.0642        3.3810        2.6000\nDalc                     1.4251        1.7778        1.4000\nWalc                     2.1804        2.8889        2.0000\nhealth                   3.5688        3.4762        3.6000\nabsences                 3.0153       15.9683       52.6000\nschool_GP                0.8746        0.9206        1.0000\nschool_MS                0.1254        0.0794        0.0000\naddress_R                0.2294        0.1746        0.4000\naddress_U                0.7706        0.8254        0.6000\nfamsize_GT3              0.7248        0.6349        0.8000\nfamsize_LE3              0.2752        0.3651        0.2000\nPstatus_A                0.0887        0.1746        0.2000\nPstatus_T                0.9113        0.8254        0.8000\nMjob_at_home             0.1560        0.1270        0.0000\nMjob_health              0.0856        0.0952        0.0000\nMjob_other               0.3639        0.2857        0.8000\nMjob_services            0.2416        0.3810        0.0000\nMjob_teacher             0.1529        0.1111        0.2000\nFjob_at_home             0.0489        0.0635        0.0000\nFjob_health              0.0428        0.0635        0.0000\nFjob_other               0.5443        0.5873        0.4000\nFjob_services            0.2844        0.2381        0.6000\nFjob_teacher             0.0795        0.0476        0.0000\nreason_course            0.4006        0.2222        0.0000\nreason_home              0.2508        0.3968        0.4000\nreason_other             0.0887        0.1111        0.0000\nreason_reputation        0.2599        0.2698        0.6000\nguardian_father          0.2385        0.1905        0.0000\nguardian_mother          0.7003        0.6508        0.6000\nguardian_other           0.0612        0.1587        0.4000\ntraveltime_1             0.6422        0.6984        0.6000\ntraveltime_2             0.2752        0.2381        0.4000\ntraveltime_3             0.0612        0.0476        0.0000\ntraveltime_4             0.0214        0.0159        0.0000\nstudytime_1              0.2661        0.2698        0.2000\nstudytime_2              0.4709        0.6508        0.6000\nstudytime_3              0.1835        0.0635        0.2000\nstudytime_4              0.0795        0.0159        0.0000\nsex_F                    0.5229        0.5238        0.8000\nsex_M                    0.4771        0.4762        0.2000",
      "text/html": "<div>\n<style scoped>\n    .dataframe tbody tr th:only-of-type {\n        vertical-align: middle;\n    }\n\n    .dataframe tbody tr th {\n        vertical-align: top;\n    }\n\n    .dataframe thead th {\n        text-align: right;\n    }\n</style>\n<table border=\"1\" class=\"dataframe\">\n  <thead>\n    <tr style=\"text-align: right;\">\n      <th></th>\n      <th>Centre de C0</th>\n      <th>Centre de C1</th>\n      <th>Centre de C2</th>\n    </tr>\n  </thead>\n  <tbody>\n    <tr>\n      <th>age</th>\n      <td>16.5596</td>\n      <td>17.3175</td>\n      <td>17.8000</td>\n    </tr>\n    <tr>\n      <th>Medu</th>\n      <td>2.7095</td>\n      <td>2.9365</td>\n      <td>3.0000</td>\n    </tr>\n    <tr>\n      <th>Fedu</th>\n      <td>2.5138</td>\n      <td>2.5238</td>\n      <td>3.0000</td>\n    </tr>\n    <tr>\n      <th>failures</th>\n      <td>0.2844</td>\n      <td>0.5873</td>\n      <td>0.4000</td>\n    </tr>\n    <tr>\n      <th>schoolsup</th>\n      <td>0.1315</td>\n      <td>0.1111</td>\n      <td>0.2000</td>\n    </tr>\n    <tr>\n      <th>famsup</th>\n      <td>0.6055</td>\n      <td>0.6508</td>\n      <td>0.6000</td>\n    </tr>\n    <tr>\n      <th>paid</th>\n      <td>0.4587</td>\n      <td>0.4603</td>\n      <td>0.4000</td>\n    </tr>\n    <tr>\n      <th>activities</th>\n      <td>0.5168</td>\n      <td>0.4762</td>\n      <td>0.4000</td>\n    </tr>\n    <tr>\n      <th>nursery</th>\n      <td>0.7890</td>\n      <td>0.8254</td>\n      <td>0.8000</td>\n    </tr>\n    <tr>\n      <th>higher</th>\n      <td>0.9511</td>\n      <td>0.9524</td>\n      <td>0.8000</td>\n    </tr>\n    <tr>\n      <th>internet</th>\n      <td>0.8165</td>\n      <td>0.9048</td>\n      <td>1.0000</td>\n    </tr>\n    <tr>\n      <th>romantic</th>\n      <td>0.3058</td>\n      <td>0.4444</td>\n      <td>0.8000</td>\n    </tr>\n    <tr>\n      <th>famrel</th>\n      <td>3.9755</td>\n      <td>3.7619</td>\n      <td>4.2000</td>\n    </tr>\n    <tr>\n      <th>freetime</th>\n      <td>3.2232</td>\n      <td>3.3810</td>\n      <td>2.2000</td>\n    </tr>\n    <tr>\n      <th>goout</th>\n      <td>3.0642</td>\n      <td>3.3810</td>\n      <td>2.6000</td>\n    </tr>\n    <tr>\n      <th>Dalc</th>\n      <td>1.4251</td>\n      <td>1.7778</td>\n      <td>1.4000</td>\n    </tr>\n    <tr>\n      <th>Walc</th>\n      <td>2.1804</td>\n      <td>2.8889</td>\n      <td>2.0000</td>\n    </tr>\n    <tr>\n      <th>health</th>\n      <td>3.5688</td>\n      <td>3.4762</td>\n      <td>3.6000</td>\n    </tr>\n    <tr>\n      <th>absences</th>\n      <td>3.0153</td>\n      <td>15.9683</td>\n      <td>52.6000</td>\n    </tr>\n    <tr>\n      <th>school_GP</th>\n      <td>0.8746</td>\n      <td>0.9206</td>\n      <td>1.0000</td>\n    </tr>\n    <tr>\n      <th>school_MS</th>\n      <td>0.1254</td>\n      <td>0.0794</td>\n      <td>0.0000</td>\n    </tr>\n    <tr>\n      <th>address_R</th>\n      <td>0.2294</td>\n      <td>0.1746</td>\n      <td>0.4000</td>\n    </tr>\n    <tr>\n      <th>address_U</th>\n      <td>0.7706</td>\n      <td>0.8254</td>\n      <td>0.6000</td>\n    </tr>\n    <tr>\n      <th>famsize_GT3</th>\n      <td>0.7248</td>\n      <td>0.6349</td>\n      <td>0.8000</td>\n    </tr>\n    <tr>\n      <th>famsize_LE3</th>\n      <td>0.2752</td>\n      <td>0.3651</td>\n      <td>0.2000</td>\n    </tr>\n    <tr>\n      <th>Pstatus_A</th>\n      <td>0.0887</td>\n      <td>0.1746</td>\n      <td>0.2000</td>\n    </tr>\n    <tr>\n      <th>Pstatus_T</th>\n      <td>0.9113</td>\n      <td>0.8254</td>\n      <td>0.8000</td>\n    </tr>\n    <tr>\n      <th>Mjob_at_home</th>\n      <td>0.1560</td>\n      <td>0.1270</td>\n      <td>0.0000</td>\n    </tr>\n    <tr>\n      <th>Mjob_health</th>\n      <td>0.0856</td>\n      <td>0.0952</td>\n      <td>0.0000</td>\n    </tr>\n    <tr>\n      <th>Mjob_other</th>\n      <td>0.3639</td>\n      <td>0.2857</td>\n      <td>0.8000</td>\n    </tr>\n    <tr>\n      <th>Mjob_services</th>\n      <td>0.2416</td>\n      <td>0.3810</td>\n      <td>0.0000</td>\n    </tr>\n    <tr>\n      <th>Mjob_teacher</th>\n      <td>0.1529</td>\n      <td>0.1111</td>\n      <td>0.2000</td>\n    </tr>\n    <tr>\n      <th>Fjob_at_home</th>\n      <td>0.0489</td>\n      <td>0.0635</td>\n      <td>0.0000</td>\n    </tr>\n    <tr>\n      <th>Fjob_health</th>\n      <td>0.0428</td>\n      <td>0.0635</td>\n      <td>0.0000</td>\n    </tr>\n    <tr>\n      <th>Fjob_other</th>\n      <td>0.5443</td>\n      <td>0.5873</td>\n      <td>0.4000</td>\n    </tr>\n    <tr>\n      <th>Fjob_services</th>\n      <td>0.2844</td>\n      <td>0.2381</td>\n      <td>0.6000</td>\n    </tr>\n    <tr>\n      <th>Fjob_teacher</th>\n      <td>0.0795</td>\n      <td>0.0476</td>\n      <td>0.0000</td>\n    </tr>\n    <tr>\n      <th>reason_course</th>\n      <td>0.4006</td>\n      <td>0.2222</td>\n      <td>0.0000</td>\n    </tr>\n    <tr>\n      <th>reason_home</th>\n      <td>0.2508</td>\n      <td>0.3968</td>\n      <td>0.4000</td>\n    </tr>\n    <tr>\n      <th>reason_other</th>\n      <td>0.0887</td>\n      <td>0.1111</td>\n      <td>0.0000</td>\n    </tr>\n    <tr>\n      <th>reason_reputation</th>\n      <td>0.2599</td>\n      <td>0.2698</td>\n      <td>0.6000</td>\n    </tr>\n    <tr>\n      <th>guardian_father</th>\n      <td>0.2385</td>\n      <td>0.1905</td>\n      <td>0.0000</td>\n    </tr>\n    <tr>\n      <th>guardian_mother</th>\n      <td>0.7003</td>\n      <td>0.6508</td>\n      <td>0.6000</td>\n    </tr>\n    <tr>\n      <th>guardian_other</th>\n      <td>0.0612</td>\n      <td>0.1587</td>\n      <td>0.4000</td>\n    </tr>\n    <tr>\n      <th>traveltime_1</th>\n      <td>0.6422</td>\n      <td>0.6984</td>\n      <td>0.6000</td>\n    </tr>\n    <tr>\n      <th>traveltime_2</th>\n      <td>0.2752</td>\n      <td>0.2381</td>\n      <td>0.4000</td>\n    </tr>\n    <tr>\n      <th>traveltime_3</th>\n      <td>0.0612</td>\n      <td>0.0476</td>\n      <td>0.0000</td>\n    </tr>\n    <tr>\n      <th>traveltime_4</th>\n      <td>0.0214</td>\n      <td>0.0159</td>\n      <td>0.0000</td>\n    </tr>\n    <tr>\n      <th>studytime_1</th>\n      <td>0.2661</td>\n      <td>0.2698</td>\n      <td>0.2000</td>\n    </tr>\n    <tr>\n      <th>studytime_2</th>\n      <td>0.4709</td>\n      <td>0.6508</td>\n      <td>0.6000</td>\n    </tr>\n    <tr>\n      <th>studytime_3</th>\n      <td>0.1835</td>\n      <td>0.0635</td>\n      <td>0.2000</td>\n    </tr>\n    <tr>\n      <th>studytime_4</th>\n      <td>0.0795</td>\n      <td>0.0159</td>\n      <td>0.0000</td>\n    </tr>\n    <tr>\n      <th>sex_F</th>\n      <td>0.5229</td>\n      <td>0.5238</td>\n      <td>0.8000</td>\n    </tr>\n    <tr>\n      <th>sex_M</th>\n      <td>0.4771</td>\n      <td>0.4762</td>\n      <td>0.2000</td>\n    </tr>\n  </tbody>\n</table>\n</div>"
     },
     "execution_count": 30,
     "metadata": {},
     "output_type": "execute_result"
    }
   ],
   "source": [
    "from sklearn import cluster\n",
    "\n",
    "aglo_clusters = cluster.AgglomerativeClustering(cluster_count).fit(dataset_for_predictions)\n",
    "\n",
    "mat_original['aglo_cluster'] = aglo_clusters.labels_\n",
    "\n",
    "aglo_c0 = dataset_for_predictions[mat_original['aglo_cluster'] == 0]\n",
    "aglo_c1 = dataset_for_predictions[mat_original['aglo_cluster'] == 1]\n",
    "aglo_c2 = dataset_for_predictions[mat_original['aglo_cluster'] == 2]\n",
    "\n",
    "aglo_c0_center = aglo_c0.mean(axis=0)\n",
    "aglo_c1_center = aglo_c1.mean(axis=0)\n",
    "aglo_c2_center = aglo_c2.mean(axis=0)\n",
    "\n",
    "pd.DataFrame({\n",
    "    \"Centre de C0\": aglo_c0_center,\n",
    "    \"Centre de C1\": aglo_c1_center,\n",
    "    \"Centre de C2\": aglo_c2_center,\n",
    "})"
   ],
   "metadata": {
    "collapsed": false,
    "pycharm": {
     "name": "#%%\n"
    }
   }
  },
  {
   "cell_type": "markdown",
   "source": [
    "De la même manière, interessons nous à la répartition des données parmi nos clusters."
   ],
   "metadata": {
    "collapsed": false
   }
  },
  {
   "cell_type": "code",
   "execution_count": 31,
   "outputs": [
    {
     "data": {
      "text/plain": "  Cluster  Nombre d'éléments\n0      C0                327\n1      C1                 63\n2      C2                  5",
      "text/html": "<div>\n<style scoped>\n    .dataframe tbody tr th:only-of-type {\n        vertical-align: middle;\n    }\n\n    .dataframe tbody tr th {\n        vertical-align: top;\n    }\n\n    .dataframe thead th {\n        text-align: right;\n    }\n</style>\n<table border=\"1\" class=\"dataframe\">\n  <thead>\n    <tr style=\"text-align: right;\">\n      <th></th>\n      <th>Cluster</th>\n      <th>Nombre d'éléments</th>\n    </tr>\n  </thead>\n  <tbody>\n    <tr>\n      <th>0</th>\n      <td>C0</td>\n      <td>327</td>\n    </tr>\n    <tr>\n      <th>1</th>\n      <td>C1</td>\n      <td>63</td>\n    </tr>\n    <tr>\n      <th>2</th>\n      <td>C2</td>\n      <td>5</td>\n    </tr>\n  </tbody>\n</table>\n</div>"
     },
     "execution_count": 31,
     "metadata": {},
     "output_type": "execute_result"
    }
   ],
   "source": [
    "pd.DataFrame({\n",
    "    \"Cluster\": [\"C0\", \"C1\", \"C2\"],\n",
    "    \"Nombre d'éléments\": [len(aglo_c0), len(aglo_c1), len(aglo_c2)],\n",
    "})"
   ],
   "metadata": {
    "collapsed": false,
    "pycharm": {
     "name": "#%%\n"
    }
   }
  },
  {
   "cell_type": "markdown",
   "source": [
    "Là encore, le cluster C0 est aussi très imposant. Une mauvaise répartition des données peut lourdement affecter\n",
    "\n",
    "\n",
    "\n",
    "#### Evaluation de nos clusters\n",
    "\n",
    "Nous allons maintenant analyser la qualité de nos clusters.\n",
    "\n",
    "Il est peu pertinant de comparer les données des clusters car leur nombre d'éléments diffère trop.\n",
    "\n",
    "### Pour les élèves de portugais"
   ],
   "metadata": {
    "collapsed": false
   }
  },
  {
   "cell_type": "code",
   "execution_count": 32,
   "outputs": [],
   "source": [
    "dataset_for_predictions = por_formatted.copy()\n",
    "dataset_for_predictions = csv_parser.drop_columns(dataset_for_predictions, excluded_columns)\n",
    "\n",
    "# Nous souhaitons travailler avec 2 clusters à chaque fois.\n",
    "cluster_count = 3"
   ],
   "metadata": {
    "collapsed": false,
    "pycharm": {
     "name": "#%%\n"
    }
   }
  },
  {
   "cell_type": "markdown",
   "source": [
    "#### Algorithme du Kmean\n",
    "\n",
    "En utilisant l'algorithme du knn sur notre jeu de donnée, nous optenons 3 clusters C0, C1 et C2 dont voici les centres :\n"
   ],
   "metadata": {
    "collapsed": false
   }
  },
  {
   "cell_type": "code",
   "execution_count": 33,
   "outputs": [
    {
     "data": {
      "text/plain": "                field  Centre de C0  Centre de C1  Centre de C2\n0                 age       16.8414       17.1837       16.6273\n1                Medu        2.5991        2.3061        2.4906\n2                Fedu        2.3304        2.4082        2.2788\n3            failures        0.2291        0.4694        0.1850\n4           schoolsup        0.0881        0.0816        0.1180\n5              famsup        0.6167        0.6327        0.6086\n6                paid        0.0705        0.0204        0.0590\n7          activities        0.5066        0.3878        0.4853\n8             nursery        0.7665        0.7959        0.8257\n9              higher        0.8987        0.7143        0.9142\n10           internet        0.7577        0.8776        0.7587\n11           romantic        0.3833        0.4490        0.3485\n12             famrel        3.7974        3.8367        4.0241\n13           freetime        3.1674        3.1429        3.1930\n14              goout        3.2467        3.4082        3.1180\n15               Dalc        1.4934        2.1224        1.4263\n16               Walc        2.3789        2.8163        2.1501\n17             health        3.4273        3.6939        3.5818\n18           absences        5.9736       15.6327        0.6783\n19          school_GP        0.6740        0.8571        0.6113\n20          school_MS        0.3260        0.1429        0.3887\n21          address_R        0.2863        0.2245        0.3244\n22          address_U        0.7137        0.7755        0.6756\n23        famsize_GT3        0.7269        0.6939        0.6917\n24        famsize_LE3        0.2731        0.3061        0.3083\n25          Pstatus_A        0.1322        0.2449        0.1019\n26          Pstatus_T        0.8678        0.7551        0.8981\n27       Mjob_at_home        0.2115        0.2041        0.2064\n28        Mjob_health        0.0573        0.0000        0.0938\n29         Mjob_other        0.3833        0.4694        0.3968\n30      Mjob_services        0.2291        0.2653        0.1903\n31       Mjob_teacher        0.1189        0.0612        0.1126\n32       Fjob_at_home        0.0881        0.0612        0.0509\n33        Fjob_health        0.0352        0.0000        0.0402\n34         Fjob_other        0.5903        0.5714        0.5496\n35      Fjob_services        0.2291        0.3265        0.3029\n36       Fjob_teacher        0.0573        0.0408        0.0563\n37      reason_course        0.4141        0.4082        0.4584\n38        reason_home        0.2467        0.3265        0.2064\n39       reason_other        0.0925        0.0816        0.1260\n40  reason_reputation        0.2467        0.1837        0.2091\n41    guardian_father        0.1762        0.2041        0.2761\n42    guardian_mother        0.7489        0.6122        0.6836\n43     guardian_other        0.0749        0.1837        0.0402\n44       traveltime_1        0.5595        0.5714        0.5657\n45       traveltime_2        0.3348        0.3265        0.3244\n46       traveltime_3        0.0881        0.0816        0.0804\n47       traveltime_4        0.0176        0.0204        0.0295\n48        studytime_1        0.3789        0.4490        0.2788\n49        studytime_2        0.4273        0.4898        0.4933\n50        studytime_3        0.1322        0.0612        0.1716\n51        studytime_4        0.0617       -0.0000        0.0563\n52              sex_F        0.5595        0.5714        0.6113\n53              sex_M        0.4405        0.4286        0.3887",
      "text/html": "<div>\n<style scoped>\n    .dataframe tbody tr th:only-of-type {\n        vertical-align: middle;\n    }\n\n    .dataframe tbody tr th {\n        vertical-align: top;\n    }\n\n    .dataframe thead th {\n        text-align: right;\n    }\n</style>\n<table border=\"1\" class=\"dataframe\">\n  <thead>\n    <tr style=\"text-align: right;\">\n      <th></th>\n      <th>field</th>\n      <th>Centre de C0</th>\n      <th>Centre de C1</th>\n      <th>Centre de C2</th>\n    </tr>\n  </thead>\n  <tbody>\n    <tr>\n      <th>0</th>\n      <td>age</td>\n      <td>16.8414</td>\n      <td>17.1837</td>\n      <td>16.6273</td>\n    </tr>\n    <tr>\n      <th>1</th>\n      <td>Medu</td>\n      <td>2.5991</td>\n      <td>2.3061</td>\n      <td>2.4906</td>\n    </tr>\n    <tr>\n      <th>2</th>\n      <td>Fedu</td>\n      <td>2.3304</td>\n      <td>2.4082</td>\n      <td>2.2788</td>\n    </tr>\n    <tr>\n      <th>3</th>\n      <td>failures</td>\n      <td>0.2291</td>\n      <td>0.4694</td>\n      <td>0.1850</td>\n    </tr>\n    <tr>\n      <th>4</th>\n      <td>schoolsup</td>\n      <td>0.0881</td>\n      <td>0.0816</td>\n      <td>0.1180</td>\n    </tr>\n    <tr>\n      <th>5</th>\n      <td>famsup</td>\n      <td>0.6167</td>\n      <td>0.6327</td>\n      <td>0.6086</td>\n    </tr>\n    <tr>\n      <th>6</th>\n      <td>paid</td>\n      <td>0.0705</td>\n      <td>0.0204</td>\n      <td>0.0590</td>\n    </tr>\n    <tr>\n      <th>7</th>\n      <td>activities</td>\n      <td>0.5066</td>\n      <td>0.3878</td>\n      <td>0.4853</td>\n    </tr>\n    <tr>\n      <th>8</th>\n      <td>nursery</td>\n      <td>0.7665</td>\n      <td>0.7959</td>\n      <td>0.8257</td>\n    </tr>\n    <tr>\n      <th>9</th>\n      <td>higher</td>\n      <td>0.8987</td>\n      <td>0.7143</td>\n      <td>0.9142</td>\n    </tr>\n    <tr>\n      <th>10</th>\n      <td>internet</td>\n      <td>0.7577</td>\n      <td>0.8776</td>\n      <td>0.7587</td>\n    </tr>\n    <tr>\n      <th>11</th>\n      <td>romantic</td>\n      <td>0.3833</td>\n      <td>0.4490</td>\n      <td>0.3485</td>\n    </tr>\n    <tr>\n      <th>12</th>\n      <td>famrel</td>\n      <td>3.7974</td>\n      <td>3.8367</td>\n      <td>4.0241</td>\n    </tr>\n    <tr>\n      <th>13</th>\n      <td>freetime</td>\n      <td>3.1674</td>\n      <td>3.1429</td>\n      <td>3.1930</td>\n    </tr>\n    <tr>\n      <th>14</th>\n      <td>goout</td>\n      <td>3.2467</td>\n      <td>3.4082</td>\n      <td>3.1180</td>\n    </tr>\n    <tr>\n      <th>15</th>\n      <td>Dalc</td>\n      <td>1.4934</td>\n      <td>2.1224</td>\n      <td>1.4263</td>\n    </tr>\n    <tr>\n      <th>16</th>\n      <td>Walc</td>\n      <td>2.3789</td>\n      <td>2.8163</td>\n      <td>2.1501</td>\n    </tr>\n    <tr>\n      <th>17</th>\n      <td>health</td>\n      <td>3.4273</td>\n      <td>3.6939</td>\n      <td>3.5818</td>\n    </tr>\n    <tr>\n      <th>18</th>\n      <td>absences</td>\n      <td>5.9736</td>\n      <td>15.6327</td>\n      <td>0.6783</td>\n    </tr>\n    <tr>\n      <th>19</th>\n      <td>school_GP</td>\n      <td>0.6740</td>\n      <td>0.8571</td>\n      <td>0.6113</td>\n    </tr>\n    <tr>\n      <th>20</th>\n      <td>school_MS</td>\n      <td>0.3260</td>\n      <td>0.1429</td>\n      <td>0.3887</td>\n    </tr>\n    <tr>\n      <th>21</th>\n      <td>address_R</td>\n      <td>0.2863</td>\n      <td>0.2245</td>\n      <td>0.3244</td>\n    </tr>\n    <tr>\n      <th>22</th>\n      <td>address_U</td>\n      <td>0.7137</td>\n      <td>0.7755</td>\n      <td>0.6756</td>\n    </tr>\n    <tr>\n      <th>23</th>\n      <td>famsize_GT3</td>\n      <td>0.7269</td>\n      <td>0.6939</td>\n      <td>0.6917</td>\n    </tr>\n    <tr>\n      <th>24</th>\n      <td>famsize_LE3</td>\n      <td>0.2731</td>\n      <td>0.3061</td>\n      <td>0.3083</td>\n    </tr>\n    <tr>\n      <th>25</th>\n      <td>Pstatus_A</td>\n      <td>0.1322</td>\n      <td>0.2449</td>\n      <td>0.1019</td>\n    </tr>\n    <tr>\n      <th>26</th>\n      <td>Pstatus_T</td>\n      <td>0.8678</td>\n      <td>0.7551</td>\n      <td>0.8981</td>\n    </tr>\n    <tr>\n      <th>27</th>\n      <td>Mjob_at_home</td>\n      <td>0.2115</td>\n      <td>0.2041</td>\n      <td>0.2064</td>\n    </tr>\n    <tr>\n      <th>28</th>\n      <td>Mjob_health</td>\n      <td>0.0573</td>\n      <td>0.0000</td>\n      <td>0.0938</td>\n    </tr>\n    <tr>\n      <th>29</th>\n      <td>Mjob_other</td>\n      <td>0.3833</td>\n      <td>0.4694</td>\n      <td>0.3968</td>\n    </tr>\n    <tr>\n      <th>30</th>\n      <td>Mjob_services</td>\n      <td>0.2291</td>\n      <td>0.2653</td>\n      <td>0.1903</td>\n    </tr>\n    <tr>\n      <th>31</th>\n      <td>Mjob_teacher</td>\n      <td>0.1189</td>\n      <td>0.0612</td>\n      <td>0.1126</td>\n    </tr>\n    <tr>\n      <th>32</th>\n      <td>Fjob_at_home</td>\n      <td>0.0881</td>\n      <td>0.0612</td>\n      <td>0.0509</td>\n    </tr>\n    <tr>\n      <th>33</th>\n      <td>Fjob_health</td>\n      <td>0.0352</td>\n      <td>0.0000</td>\n      <td>0.0402</td>\n    </tr>\n    <tr>\n      <th>34</th>\n      <td>Fjob_other</td>\n      <td>0.5903</td>\n      <td>0.5714</td>\n      <td>0.5496</td>\n    </tr>\n    <tr>\n      <th>35</th>\n      <td>Fjob_services</td>\n      <td>0.2291</td>\n      <td>0.3265</td>\n      <td>0.3029</td>\n    </tr>\n    <tr>\n      <th>36</th>\n      <td>Fjob_teacher</td>\n      <td>0.0573</td>\n      <td>0.0408</td>\n      <td>0.0563</td>\n    </tr>\n    <tr>\n      <th>37</th>\n      <td>reason_course</td>\n      <td>0.4141</td>\n      <td>0.4082</td>\n      <td>0.4584</td>\n    </tr>\n    <tr>\n      <th>38</th>\n      <td>reason_home</td>\n      <td>0.2467</td>\n      <td>0.3265</td>\n      <td>0.2064</td>\n    </tr>\n    <tr>\n      <th>39</th>\n      <td>reason_other</td>\n      <td>0.0925</td>\n      <td>0.0816</td>\n      <td>0.1260</td>\n    </tr>\n    <tr>\n      <th>40</th>\n      <td>reason_reputation</td>\n      <td>0.2467</td>\n      <td>0.1837</td>\n      <td>0.2091</td>\n    </tr>\n    <tr>\n      <th>41</th>\n      <td>guardian_father</td>\n      <td>0.1762</td>\n      <td>0.2041</td>\n      <td>0.2761</td>\n    </tr>\n    <tr>\n      <th>42</th>\n      <td>guardian_mother</td>\n      <td>0.7489</td>\n      <td>0.6122</td>\n      <td>0.6836</td>\n    </tr>\n    <tr>\n      <th>43</th>\n      <td>guardian_other</td>\n      <td>0.0749</td>\n      <td>0.1837</td>\n      <td>0.0402</td>\n    </tr>\n    <tr>\n      <th>44</th>\n      <td>traveltime_1</td>\n      <td>0.5595</td>\n      <td>0.5714</td>\n      <td>0.5657</td>\n    </tr>\n    <tr>\n      <th>45</th>\n      <td>traveltime_2</td>\n      <td>0.3348</td>\n      <td>0.3265</td>\n      <td>0.3244</td>\n    </tr>\n    <tr>\n      <th>46</th>\n      <td>traveltime_3</td>\n      <td>0.0881</td>\n      <td>0.0816</td>\n      <td>0.0804</td>\n    </tr>\n    <tr>\n      <th>47</th>\n      <td>traveltime_4</td>\n      <td>0.0176</td>\n      <td>0.0204</td>\n      <td>0.0295</td>\n    </tr>\n    <tr>\n      <th>48</th>\n      <td>studytime_1</td>\n      <td>0.3789</td>\n      <td>0.4490</td>\n      <td>0.2788</td>\n    </tr>\n    <tr>\n      <th>49</th>\n      <td>studytime_2</td>\n      <td>0.4273</td>\n      <td>0.4898</td>\n      <td>0.4933</td>\n    </tr>\n    <tr>\n      <th>50</th>\n      <td>studytime_3</td>\n      <td>0.1322</td>\n      <td>0.0612</td>\n      <td>0.1716</td>\n    </tr>\n    <tr>\n      <th>51</th>\n      <td>studytime_4</td>\n      <td>0.0617</td>\n      <td>-0.0000</td>\n      <td>0.0563</td>\n    </tr>\n    <tr>\n      <th>52</th>\n      <td>sex_F</td>\n      <td>0.5595</td>\n      <td>0.5714</td>\n      <td>0.6113</td>\n    </tr>\n    <tr>\n      <th>53</th>\n      <td>sex_M</td>\n      <td>0.4405</td>\n      <td>0.4286</td>\n      <td>0.3887</td>\n    </tr>\n  </tbody>\n</table>\n</div>"
     },
     "execution_count": 33,
     "metadata": {},
     "output_type": "execute_result"
    }
   ],
   "source": [
    "from sklearn.cluster import KMeans\n",
    "\n",
    "\n",
    "knn_predictions = KMeans(n_clusters=cluster_count, random_state=1)\n",
    "knn_predictions.fit(dataset_for_predictions)\n",
    "\n",
    "pd.DataFrame({\n",
    "    \"field\": knn_predictions.feature_names_in_,\n",
    "    \"Centre de C0\": knn_predictions.cluster_centers_[0],\n",
    "    \"Centre de C1\": knn_predictions.cluster_centers_[1],\n",
    "    \"Centre de C2\": knn_predictions.cluster_centers_[2],\n",
    "})\n"
   ],
   "metadata": {
    "collapsed": false,
    "pycharm": {
     "name": "#%%\n"
    }
   }
  },
  {
   "cell_type": "markdown",
   "source": [
    "Le tableau ci dessus nous montre les centres de nos clusters pour les élèves de portugais avec l'algorithme du Knn.\n",
    "Nous pouvons constater qu'il y a peu de différences marquantes entre les différents centres ce qui peut être du à des données trop proches entre elles.\n"
   ],
   "metadata": {
    "collapsed": false
   }
  },
  {
   "cell_type": "code",
   "execution_count": 34,
   "outputs": [
    {
     "data": {
      "text/plain": "  Cluster  Nombre d'éléments\n0      C0                227\n1      C1                 49\n2      C2                373",
      "text/html": "<div>\n<style scoped>\n    .dataframe tbody tr th:only-of-type {\n        vertical-align: middle;\n    }\n\n    .dataframe tbody tr th {\n        vertical-align: top;\n    }\n\n    .dataframe thead th {\n        text-align: right;\n    }\n</style>\n<table border=\"1\" class=\"dataframe\">\n  <thead>\n    <tr style=\"text-align: right;\">\n      <th></th>\n      <th>Cluster</th>\n      <th>Nombre d'éléments</th>\n    </tr>\n  </thead>\n  <tbody>\n    <tr>\n      <th>0</th>\n      <td>C0</td>\n      <td>227</td>\n    </tr>\n    <tr>\n      <th>1</th>\n      <td>C1</td>\n      <td>49</td>\n    </tr>\n    <tr>\n      <th>2</th>\n      <td>C2</td>\n      <td>373</td>\n    </tr>\n  </tbody>\n</table>\n</div>"
     },
     "execution_count": 34,
     "metadata": {},
     "output_type": "execute_result"
    }
   ],
   "source": [
    "por_original['knn_cluster'] = knn_predictions.labels_\n",
    "\n",
    "knn_c0 = dataset_for_predictions[por_original['knn_cluster'] == 0]\n",
    "knn_c1 = dataset_for_predictions[por_original['knn_cluster'] == 1]\n",
    "knn_c2 = dataset_for_predictions[por_original['knn_cluster'] == 2]\n",
    "\n",
    "\n",
    "pd.DataFrame({\n",
    "    \"Cluster\": [\"C0\", \"C1\", \"C2\"],\n",
    "    \"Nombre d'éléments\": [len(knn_c0), len(knn_c1), len(knn_c2)],\n",
    "})"
   ],
   "metadata": {
    "collapsed": false,
    "pycharm": {
     "name": "#%%\n"
    }
   }
  },
  {
   "cell_type": "markdown",
   "source": [
    "Les données sont bien mieux réparties dans les clusters par rapport à la méthode du Knn.\n",
    "Cependant, il y a toujours un grand écart entre le plus petit cluster (C1) et le plus grand (C2).\n",
    "\n",
    "#### Clustering hierarchique\n",
    "\n",
    "Une autre méthode pour clusteriser nos données est le clustering hierarchique."
   ],
   "metadata": {
    "collapsed": false
   }
  },
  {
   "cell_type": "code",
   "execution_count": 35,
   "outputs": [
    {
     "data": {
      "text/plain": "                   Centre de C0  Centre de C1  Centre de C2\nage                     16.6401       17.2414       17.1132\nMedu                     2.5331        2.6552        2.3868\nFedu                     2.3035        2.6207        2.2358\nfailures                 0.1926        0.4138        0.3113\nschoolsup                0.1148        0.0345        0.0755\nfamsup                   0.6051        0.6207        0.6509\npaid                     0.0661        0.0345        0.0377\nactivities               0.4883        0.2759        0.5283\nnursery                  0.8016        0.7931        0.8113\nhigher                   0.9125        0.7586        0.8396\ninternet                 0.7490        0.9310        0.8113\nromantic                 0.3502        0.4828        0.4245\nfamrel                   4.0000        3.7586        3.6415\nfreetime                 3.2140        3.0345        3.0566\ngoout                    3.1284        3.1034        3.4811\nDalc                     1.4163        2.1724        1.7358\nWalc                     2.1537        2.8276        2.7453\nhealth                   3.5389        3.4828        3.5377\nabsences                 1.7607       18.1034        8.9151\nschool_GP                0.6226        1.0000        0.6981\nschool_MS                0.3774        0.0000        0.3019\naddress_R                0.3268        0.2069        0.2170\naddress_U                0.6732        0.7931        0.7830\nfamsize_GT3              0.7043        0.6207        0.7264\nfamsize_LE3              0.2957        0.3793        0.2736\nPstatus_A                0.1051        0.2759        0.1698\nPstatus_T                0.8949        0.7241        0.8302\nMjob_at_home             0.2140        0.2414        0.1698\nMjob_health              0.0837        0.0000        0.0472\nMjob_other               0.3852        0.4138        0.4528\nMjob_services            0.2004        0.2414        0.2453\nMjob_teacher             0.1167        0.1034        0.0849\nFjob_at_home             0.0623        0.0690        0.0755\nFjob_health              0.0370        0.0000        0.0377\nFjob_other               0.5584        0.5172        0.6132\nFjob_services            0.2802        0.3448        0.2547\nFjob_teacher             0.0623        0.0690        0.0189\nreason_course            0.4553        0.2759        0.4057\nreason_home              0.2140        0.4828        0.2358\nreason_other             0.1148        0.0345        0.1132\nreason_reputation        0.2160        0.2069        0.2453\nguardian_father          0.2529        0.1379        0.1792\nguardian_mother          0.7004        0.6897        0.7075\nguardian_other           0.0467        0.1724        0.1132\ntraveltime_1             0.5642        0.6207        0.5472\ntraveltime_2             0.3288        0.3448        0.3208\ntraveltime_3             0.0817        0.0345        0.1038\ntraveltime_4             0.0253        0.0000        0.0283\nstudytime_1              0.3132        0.4138        0.3679\nstudytime_2              0.4611        0.5517        0.4906\nstudytime_3              0.1654        0.0345        0.1038\nstudytime_4              0.0603        0.0000        0.0377\nsex_F                    0.5992        0.5862        0.5472\nsex_M                    0.4008        0.4138        0.4528",
      "text/html": "<div>\n<style scoped>\n    .dataframe tbody tr th:only-of-type {\n        vertical-align: middle;\n    }\n\n    .dataframe tbody tr th {\n        vertical-align: top;\n    }\n\n    .dataframe thead th {\n        text-align: right;\n    }\n</style>\n<table border=\"1\" class=\"dataframe\">\n  <thead>\n    <tr style=\"text-align: right;\">\n      <th></th>\n      <th>Centre de C0</th>\n      <th>Centre de C1</th>\n      <th>Centre de C2</th>\n    </tr>\n  </thead>\n  <tbody>\n    <tr>\n      <th>age</th>\n      <td>16.6401</td>\n      <td>17.2414</td>\n      <td>17.1132</td>\n    </tr>\n    <tr>\n      <th>Medu</th>\n      <td>2.5331</td>\n      <td>2.6552</td>\n      <td>2.3868</td>\n    </tr>\n    <tr>\n      <th>Fedu</th>\n      <td>2.3035</td>\n      <td>2.6207</td>\n      <td>2.2358</td>\n    </tr>\n    <tr>\n      <th>failures</th>\n      <td>0.1926</td>\n      <td>0.4138</td>\n      <td>0.3113</td>\n    </tr>\n    <tr>\n      <th>schoolsup</th>\n      <td>0.1148</td>\n      <td>0.0345</td>\n      <td>0.0755</td>\n    </tr>\n    <tr>\n      <th>famsup</th>\n      <td>0.6051</td>\n      <td>0.6207</td>\n      <td>0.6509</td>\n    </tr>\n    <tr>\n      <th>paid</th>\n      <td>0.0661</td>\n      <td>0.0345</td>\n      <td>0.0377</td>\n    </tr>\n    <tr>\n      <th>activities</th>\n      <td>0.4883</td>\n      <td>0.2759</td>\n      <td>0.5283</td>\n    </tr>\n    <tr>\n      <th>nursery</th>\n      <td>0.8016</td>\n      <td>0.7931</td>\n      <td>0.8113</td>\n    </tr>\n    <tr>\n      <th>higher</th>\n      <td>0.9125</td>\n      <td>0.7586</td>\n      <td>0.8396</td>\n    </tr>\n    <tr>\n      <th>internet</th>\n      <td>0.7490</td>\n      <td>0.9310</td>\n      <td>0.8113</td>\n    </tr>\n    <tr>\n      <th>romantic</th>\n      <td>0.3502</td>\n      <td>0.4828</td>\n      <td>0.4245</td>\n    </tr>\n    <tr>\n      <th>famrel</th>\n      <td>4.0000</td>\n      <td>3.7586</td>\n      <td>3.6415</td>\n    </tr>\n    <tr>\n      <th>freetime</th>\n      <td>3.2140</td>\n      <td>3.0345</td>\n      <td>3.0566</td>\n    </tr>\n    <tr>\n      <th>goout</th>\n      <td>3.1284</td>\n      <td>3.1034</td>\n      <td>3.4811</td>\n    </tr>\n    <tr>\n      <th>Dalc</th>\n      <td>1.4163</td>\n      <td>2.1724</td>\n      <td>1.7358</td>\n    </tr>\n    <tr>\n      <th>Walc</th>\n      <td>2.1537</td>\n      <td>2.8276</td>\n      <td>2.7453</td>\n    </tr>\n    <tr>\n      <th>health</th>\n      <td>3.5389</td>\n      <td>3.4828</td>\n      <td>3.5377</td>\n    </tr>\n    <tr>\n      <th>absences</th>\n      <td>1.7607</td>\n      <td>18.1034</td>\n      <td>8.9151</td>\n    </tr>\n    <tr>\n      <th>school_GP</th>\n      <td>0.6226</td>\n      <td>1.0000</td>\n      <td>0.6981</td>\n    </tr>\n    <tr>\n      <th>school_MS</th>\n      <td>0.3774</td>\n      <td>0.0000</td>\n      <td>0.3019</td>\n    </tr>\n    <tr>\n      <th>address_R</th>\n      <td>0.3268</td>\n      <td>0.2069</td>\n      <td>0.2170</td>\n    </tr>\n    <tr>\n      <th>address_U</th>\n      <td>0.6732</td>\n      <td>0.7931</td>\n      <td>0.7830</td>\n    </tr>\n    <tr>\n      <th>famsize_GT3</th>\n      <td>0.7043</td>\n      <td>0.6207</td>\n      <td>0.7264</td>\n    </tr>\n    <tr>\n      <th>famsize_LE3</th>\n      <td>0.2957</td>\n      <td>0.3793</td>\n      <td>0.2736</td>\n    </tr>\n    <tr>\n      <th>Pstatus_A</th>\n      <td>0.1051</td>\n      <td>0.2759</td>\n      <td>0.1698</td>\n    </tr>\n    <tr>\n      <th>Pstatus_T</th>\n      <td>0.8949</td>\n      <td>0.7241</td>\n      <td>0.8302</td>\n    </tr>\n    <tr>\n      <th>Mjob_at_home</th>\n      <td>0.2140</td>\n      <td>0.2414</td>\n      <td>0.1698</td>\n    </tr>\n    <tr>\n      <th>Mjob_health</th>\n      <td>0.0837</td>\n      <td>0.0000</td>\n      <td>0.0472</td>\n    </tr>\n    <tr>\n      <th>Mjob_other</th>\n      <td>0.3852</td>\n      <td>0.4138</td>\n      <td>0.4528</td>\n    </tr>\n    <tr>\n      <th>Mjob_services</th>\n      <td>0.2004</td>\n      <td>0.2414</td>\n      <td>0.2453</td>\n    </tr>\n    <tr>\n      <th>Mjob_teacher</th>\n      <td>0.1167</td>\n      <td>0.1034</td>\n      <td>0.0849</td>\n    </tr>\n    <tr>\n      <th>Fjob_at_home</th>\n      <td>0.0623</td>\n      <td>0.0690</td>\n      <td>0.0755</td>\n    </tr>\n    <tr>\n      <th>Fjob_health</th>\n      <td>0.0370</td>\n      <td>0.0000</td>\n      <td>0.0377</td>\n    </tr>\n    <tr>\n      <th>Fjob_other</th>\n      <td>0.5584</td>\n      <td>0.5172</td>\n      <td>0.6132</td>\n    </tr>\n    <tr>\n      <th>Fjob_services</th>\n      <td>0.2802</td>\n      <td>0.3448</td>\n      <td>0.2547</td>\n    </tr>\n    <tr>\n      <th>Fjob_teacher</th>\n      <td>0.0623</td>\n      <td>0.0690</td>\n      <td>0.0189</td>\n    </tr>\n    <tr>\n      <th>reason_course</th>\n      <td>0.4553</td>\n      <td>0.2759</td>\n      <td>0.4057</td>\n    </tr>\n    <tr>\n      <th>reason_home</th>\n      <td>0.2140</td>\n      <td>0.4828</td>\n      <td>0.2358</td>\n    </tr>\n    <tr>\n      <th>reason_other</th>\n      <td>0.1148</td>\n      <td>0.0345</td>\n      <td>0.1132</td>\n    </tr>\n    <tr>\n      <th>reason_reputation</th>\n      <td>0.2160</td>\n      <td>0.2069</td>\n      <td>0.2453</td>\n    </tr>\n    <tr>\n      <th>guardian_father</th>\n      <td>0.2529</td>\n      <td>0.1379</td>\n      <td>0.1792</td>\n    </tr>\n    <tr>\n      <th>guardian_mother</th>\n      <td>0.7004</td>\n      <td>0.6897</td>\n      <td>0.7075</td>\n    </tr>\n    <tr>\n      <th>guardian_other</th>\n      <td>0.0467</td>\n      <td>0.1724</td>\n      <td>0.1132</td>\n    </tr>\n    <tr>\n      <th>traveltime_1</th>\n      <td>0.5642</td>\n      <td>0.6207</td>\n      <td>0.5472</td>\n    </tr>\n    <tr>\n      <th>traveltime_2</th>\n      <td>0.3288</td>\n      <td>0.3448</td>\n      <td>0.3208</td>\n    </tr>\n    <tr>\n      <th>traveltime_3</th>\n      <td>0.0817</td>\n      <td>0.0345</td>\n      <td>0.1038</td>\n    </tr>\n    <tr>\n      <th>traveltime_4</th>\n      <td>0.0253</td>\n      <td>0.0000</td>\n      <td>0.0283</td>\n    </tr>\n    <tr>\n      <th>studytime_1</th>\n      <td>0.3132</td>\n      <td>0.4138</td>\n      <td>0.3679</td>\n    </tr>\n    <tr>\n      <th>studytime_2</th>\n      <td>0.4611</td>\n      <td>0.5517</td>\n      <td>0.4906</td>\n    </tr>\n    <tr>\n      <th>studytime_3</th>\n      <td>0.1654</td>\n      <td>0.0345</td>\n      <td>0.1038</td>\n    </tr>\n    <tr>\n      <th>studytime_4</th>\n      <td>0.0603</td>\n      <td>0.0000</td>\n      <td>0.0377</td>\n    </tr>\n    <tr>\n      <th>sex_F</th>\n      <td>0.5992</td>\n      <td>0.5862</td>\n      <td>0.5472</td>\n    </tr>\n    <tr>\n      <th>sex_M</th>\n      <td>0.4008</td>\n      <td>0.4138</td>\n      <td>0.4528</td>\n    </tr>\n  </tbody>\n</table>\n</div>"
     },
     "execution_count": 35,
     "metadata": {},
     "output_type": "execute_result"
    }
   ],
   "source": [
    "from sklearn import cluster\n",
    "\n",
    "aglo_clusters = cluster.AgglomerativeClustering(cluster_count).fit(dataset_for_predictions)\n",
    "\n",
    "por_original['aglo_cluster'] = aglo_clusters.labels_\n",
    "\n",
    "aglo_c0 = dataset_for_predictions[por_original['aglo_cluster'] == 0]\n",
    "aglo_c1 = dataset_for_predictions[por_original['aglo_cluster'] == 1]\n",
    "aglo_c2 = dataset_for_predictions[por_original['aglo_cluster'] == 2]\n",
    "\n",
    "aglo_c0_center = aglo_c0.mean(axis=0)\n",
    "aglo_c1_center = aglo_c1.mean(axis=0)\n",
    "aglo_c2_center = aglo_c2.mean(axis=0)\n",
    "\n",
    "pd.DataFrame({\n",
    "    \"Centre de C0\": aglo_c0_center,\n",
    "    \"Centre de C1\": aglo_c1_center,\n",
    "    \"Centre de C2\": aglo_c2_center,\n",
    "})"
   ],
   "metadata": {
    "collapsed": false,
    "pycharm": {
     "name": "#%%\n"
    }
   }
  },
  {
   "cell_type": "markdown",
   "source": [
    "De la même manière, interessons nous à la répartition des données parmi nos clusters."
   ],
   "metadata": {
    "collapsed": false
   }
  },
  {
   "cell_type": "code",
   "execution_count": 36,
   "outputs": [
    {
     "data": {
      "text/plain": "  Cluster  Nombre d'éléments\n0      C0                514\n1      C1                 29\n2      C2                106",
      "text/html": "<div>\n<style scoped>\n    .dataframe tbody tr th:only-of-type {\n        vertical-align: middle;\n    }\n\n    .dataframe tbody tr th {\n        vertical-align: top;\n    }\n\n    .dataframe thead th {\n        text-align: right;\n    }\n</style>\n<table border=\"1\" class=\"dataframe\">\n  <thead>\n    <tr style=\"text-align: right;\">\n      <th></th>\n      <th>Cluster</th>\n      <th>Nombre d'éléments</th>\n    </tr>\n  </thead>\n  <tbody>\n    <tr>\n      <th>0</th>\n      <td>C0</td>\n      <td>514</td>\n    </tr>\n    <tr>\n      <th>1</th>\n      <td>C1</td>\n      <td>29</td>\n    </tr>\n    <tr>\n      <th>2</th>\n      <td>C2</td>\n      <td>106</td>\n    </tr>\n  </tbody>\n</table>\n</div>"
     },
     "execution_count": 36,
     "metadata": {},
     "output_type": "execute_result"
    }
   ],
   "source": [
    "pd.DataFrame({\n",
    "    \"Cluster\": [\"C0\", \"C1\", \"C2\"],\n",
    "    \"Nombre d'éléments\": [len(aglo_c0), len(aglo_c1), len(aglo_c2)],\n",
    "})"
   ],
   "metadata": {
    "collapsed": false,
    "pycharm": {
     "name": "#%%\n"
    }
   }
  },
  {
   "cell_type": "markdown",
   "source": [
    "Les données sont ici très mal réparties entre les clusters, le cluster C0 contenant 79% des données.\n",
    "Les analyses résultantes seront lourdement impactés et une donnée aura bien plus de chance d'être associée à ce cluster plutôt qu'aux autres.\n",
    "\n",
    "\n",
    "## Evaluation de nos clusters\n",
    "\n",
    "Nous allons maintenant analyser la qualité de nos clusters.\n",
    "\n"
   ],
   "metadata": {
    "collapsed": false
   }
  },
  {
   "cell_type": "code",
   "execution_count": 37,
   "outputs": [
    {
     "data": {
      "text/plain": "                            Metric  Valeur avec méthode Knn  \\\n0     G3 : Homogeneity Coefficient                   0.0654   \n1      G3 : Silhouette Coefficient                  -0.1470   \n2  G1+G2 : Homogeneity Coefficient                   0.0667   \n3   G1+G2 : Silhouette Coefficient                  -0.2302   \n\n   Valeur avec méthode hierarchique  \n0                            0.0652  \n1                           -0.1470  \n2                            0.0680  \n3                           -0.2302  ",
      "text/html": "<div>\n<style scoped>\n    .dataframe tbody tr th:only-of-type {\n        vertical-align: middle;\n    }\n\n    .dataframe tbody tr th {\n        vertical-align: top;\n    }\n\n    .dataframe thead th {\n        text-align: right;\n    }\n</style>\n<table border=\"1\" class=\"dataframe\">\n  <thead>\n    <tr style=\"text-align: right;\">\n      <th></th>\n      <th>Metric</th>\n      <th>Valeur avec méthode Knn</th>\n      <th>Valeur avec méthode hierarchique</th>\n    </tr>\n  </thead>\n  <tbody>\n    <tr>\n      <th>0</th>\n      <td>G3 : Homogeneity Coefficient</td>\n      <td>0.0654</td>\n      <td>0.0652</td>\n    </tr>\n    <tr>\n      <th>1</th>\n      <td>G3 : Silhouette Coefficient</td>\n      <td>-0.1470</td>\n      <td>-0.1470</td>\n    </tr>\n    <tr>\n      <th>2</th>\n      <td>G1+G2 : Homogeneity Coefficient</td>\n      <td>0.0667</td>\n      <td>0.0680</td>\n    </tr>\n    <tr>\n      <th>3</th>\n      <td>G1+G2 : Silhouette Coefficient</td>\n      <td>-0.2302</td>\n      <td>-0.2302</td>\n    </tr>\n  </tbody>\n</table>\n</div>"
     },
     "execution_count": 37,
     "metadata": {},
     "output_type": "execute_result"
    }
   ],
   "source": [
    "\n",
    "from sklearn import metrics\n",
    "\n",
    "pd.DataFrame({\n",
    "    \"Metric\": [\"G3 : Homogeneity Coefficient\", \"G3 : Silhouette Coefficient\", \"G1+G2 : Homogeneity Coefficient\",\n",
    "               \"G1+G2 : Silhouette Coefficient\"],\n",
    "    \"Valeur avec méthode Knn\": [\n",
    "        metrics.homogeneity_score(por_original['knn_cluster'], por_original['G3']),\n",
    "        metrics.silhouette_score(dataset_for_predictions, por_original['G3']),\n",
    "        metrics.homogeneity_score(por_original['knn_cluster'], por_original['ratio_G1+G2']),\n",
    "        metrics.silhouette_score(dataset_for_predictions, por_original['ratio_G1+G2'])\n",
    "    ],\n",
    "    \"Valeur avec méthode hierarchique\": [\n",
    "        metrics.homogeneity_score(por_original['aglo_cluster'], por_original['G3']),\n",
    "        metrics.silhouette_score(dataset_for_predictions, por_original['G3']),\n",
    "        metrics.homogeneity_score(por_original['aglo_cluster'], por_original['ratio_G1+G2']),\n",
    "        metrics.silhouette_score(dataset_for_predictions, por_original['ratio_G1+G2'])\n",
    "    ],\n",
    "})"
   ],
   "metadata": {
    "collapsed": false,
    "pycharm": {
     "name": "#%%\n"
    }
   }
  },
  {
   "cell_type": "markdown",
   "source": [
    "Les résultats sont très similaires avec nos deux méthodes.\n",
    "\n",
    "Le score d'homogénéité est très mauvais (trop proche de zéro) avec nos deux méthodes de clustering. Nous pouvons donc en déduire que :\n",
    "- Il est possible qu'il y ai eu une erreur dans la manipulation des données\n",
    "- Les élèves sont trop différents dans les jeux de données et que les clusters ne reflètent donc pas la réalité\n",
    "\n",
    "La silhouette est très mauvaise aussi (inférieur à zéro) ce qui indique que les éléves ne sont pas bien placés dans les différents clusters."
   ],
   "metadata": {
    "collapsed": false
   }
  },
  {
   "cell_type": "markdown",
   "source": [
    "## Partie 3 - Prédiction"
   ],
   "metadata": {
    "collapsed": false
   }
  },
  {
   "cell_type": "code",
   "execution_count": 38,
   "outputs": [],
   "source": [
    "import numpy as np\n",
    "from sklearn.model_selection import train_test_split\n",
    "from sklearn.neighbors import KNeighborsClassifier\n"
   ],
   "metadata": {
    "collapsed": false,
    "pycharm": {
     "name": "#%%\n"
    }
   }
  },
  {
   "cell_type": "markdown",
   "source": [
    "### Pour G3\n",
    "#### Pour les élèves de math"
   ],
   "metadata": {
    "collapsed": false
   }
  },
  {
   "cell_type": "code",
   "execution_count": 39,
   "outputs": [],
   "source": [
    "train_data, test_data = train_test_split(mat_formatted, test_size=0.3)\n",
    "\n",
    "train_data_g3= train_data[\"G3\"]\n",
    "train_data_for_g3 = train_data.drop(labels=[\"G3\"], axis=1)\n",
    "test_data_g3 = test_data[\"G3\"]\n",
    "test_data_for_g3 = test_data.drop(labels=[\"G3\"], axis=1)\n"
   ],
   "metadata": {
    "collapsed": false,
    "pycharm": {
     "name": "#%%\n"
    }
   }
  },
  {
   "cell_type": "markdown",
   "source": [
    "##### Méthode Kmean"
   ],
   "metadata": {
    "collapsed": false
   }
  },
  {
   "cell_type": "code",
   "execution_count": 40,
   "outputs": [],
   "source": [
    "knn = KNeighborsClassifier()\n",
    "knn.fit(train_data_for_g3, train_data_g3)\n",
    "predictions = knn.predict(test_data_for_g3)\n",
    "\n",
    "knn_absolute_errors = np.abs(np.subtract(predictions, test_data_g3))\n",
    "knn_square_errors = np.square(knn_absolute_errors)\n",
    "\n",
    "knn_mse = np.average(knn_square_errors)\n",
    "knn_rmse = np.sqrt(knn_mse)\n",
    "knn_mae = np.average(knn_absolute_errors)"
   ],
   "metadata": {
    "collapsed": false,
    "pycharm": {
     "name": "#%%\n"
    }
   }
  },
  {
   "cell_type": "markdown",
   "source": [
    "##### Linear regression"
   ],
   "metadata": {
    "collapsed": false
   }
  },
  {
   "cell_type": "code",
   "execution_count": 41,
   "outputs": [],
   "source": [
    "from sklearn.linear_model import LinearRegression\n",
    "\n",
    "lr_reg = LinearRegression().fit(train_data_for_g3, train_data_g3)\n",
    "lr_results = lr_reg.predict(test_data_for_g3)\n",
    "\n",
    "lr_absolute_errors = np.abs(np.subtract(lr_results, test_data_g3))\n",
    "lr_square_errors = np.square(lr_absolute_errors)\n",
    "\n",
    "lr_mse = np.average(lr_square_errors)\n",
    "lr_rmse = np.sqrt(lr_mse)\n",
    "lr_mae = np.average(lr_absolute_errors)"
   ],
   "metadata": {
    "collapsed": false,
    "pycharm": {
     "name": "#%%\n"
    }
   }
  },
  {
   "cell_type": "markdown",
   "source": [
    "##### Resultats"
   ],
   "metadata": {
    "collapsed": false
   }
  },
  {
   "cell_type": "code",
   "execution_count": 42,
   "outputs": [
    {
     "data": {
      "text/plain": "  Metriques  Valeurs pour Knn  Valeurs pour Regression linéaire\n0       MAE            1.2437                            1.4478\n1       MSE            5.9328                            4.7874\n2      RMSE            2.4357                            2.1880",
      "text/html": "<div>\n<style scoped>\n    .dataframe tbody tr th:only-of-type {\n        vertical-align: middle;\n    }\n\n    .dataframe tbody tr th {\n        vertical-align: top;\n    }\n\n    .dataframe thead th {\n        text-align: right;\n    }\n</style>\n<table border=\"1\" class=\"dataframe\">\n  <thead>\n    <tr style=\"text-align: right;\">\n      <th></th>\n      <th>Metriques</th>\n      <th>Valeurs pour Knn</th>\n      <th>Valeurs pour Regression linéaire</th>\n    </tr>\n  </thead>\n  <tbody>\n    <tr>\n      <th>0</th>\n      <td>MAE</td>\n      <td>1.2437</td>\n      <td>1.4478</td>\n    </tr>\n    <tr>\n      <th>1</th>\n      <td>MSE</td>\n      <td>5.9328</td>\n      <td>4.7874</td>\n    </tr>\n    <tr>\n      <th>2</th>\n      <td>RMSE</td>\n      <td>2.4357</td>\n      <td>2.1880</td>\n    </tr>\n  </tbody>\n</table>\n</div>"
     },
     "execution_count": 42,
     "metadata": {},
     "output_type": "execute_result"
    }
   ],
   "source": [
    "pd.DataFrame({\n",
    "    \"Metriques\": [\"MAE\", \"MSE\", \"RMSE\"],\n",
    "    \"Valeurs pour Knn\": [knn_mae, knn_mse, knn_rmse],\n",
    "    \"Valeurs pour Regression linéaire\": [lr_mae, lr_mse, lr_rmse],\n",
    "})"
   ],
   "metadata": {
    "collapsed": false,
    "pycharm": {
     "name": "#%%\n"
    }
   }
  },
  {
   "cell_type": "markdown",
   "source": [
    "Le tableau ci dessous présentent les valuers des metriques MSE, RMSE et MAE pour les prédictions des algorithmes de regression linéaire.\n",
    "Ces différentes métriques se basent sur les erreurs des différents modes de prédiction.\n",
    "Plus une erreur est proche de zéro, plus la prédictionest juste. A l'inverse, plus l'erreur est grande, plus les erreurs de prédiction sont grandes.\n",
    "\n",
    "Nous pouvons donc constater que l'algorithme de regression linéaire est bien meilleur que celui du kmean pour calculer les notes des élèves sur notre jeu de données."
   ],
   "metadata": {
    "collapsed": false
   }
  },
  {
   "cell_type": "markdown",
   "source": [
    "#### Pour les élèves de portugais"
   ],
   "metadata": {
    "collapsed": false
   }
  },
  {
   "cell_type": "code",
   "execution_count": 43,
   "outputs": [],
   "source": [
    "train_data, test_data = train_test_split(por_formatted, test_size=0.3)\n",
    "\n",
    "train_data_g3 = train_data[\"G3\"]\n",
    "train_data_for_g3 = train_data.drop(labels=[\"G3\"], axis=1)\n",
    "test_data_g3 = test_data[\"G3\"]\n",
    "test_data_for_g3 = test_data.drop(labels=[\"G3\"], axis=1)\n"
   ],
   "metadata": {
    "collapsed": false,
    "pycharm": {
     "name": "#%%\n"
    }
   }
  },
  {
   "cell_type": "markdown",
   "source": [
    "##### Méthode Kmean"
   ],
   "metadata": {
    "collapsed": false
   }
  },
  {
   "cell_type": "code",
   "execution_count": 44,
   "outputs": [],
   "source": [
    "knn = KNeighborsClassifier()\n",
    "knn.fit(train_data_for_g3, train_data_g3)\n",
    "predictions = knn.predict(test_data_for_g3)\n",
    "\n",
    "knn_absolute_errors = np.abs(np.subtract(predictions, test_data_g3))\n",
    "knn_square_errors = np.square(knn_absolute_errors)\n",
    "\n",
    "knn_mse = np.average(knn_square_errors)\n",
    "knn_rmse = np.sqrt(knn_mse)\n",
    "knn_mae = np.average(knn_absolute_errors)"
   ],
   "metadata": {
    "collapsed": false,
    "pycharm": {
     "name": "#%%\n"
    }
   }
  },
  {
   "cell_type": "markdown",
   "source": [
    "##### Linear regression"
   ],
   "metadata": {
    "collapsed": false
   }
  },
  {
   "cell_type": "code",
   "execution_count": 45,
   "outputs": [],
   "source": [
    "from sklearn.linear_model import LinearRegression\n",
    "\n",
    "lr_reg = LinearRegression().fit(train_data_for_g3, train_data_g3)\n",
    "lr_results = lr_reg.predict(test_data_for_g3)\n",
    "\n",
    "lr_absolute_errors = np.abs(np.subtract(lr_results, test_data_g3))\n",
    "lr_square_errors = np.square(lr_absolute_errors)\n",
    "\n",
    "lr_mse = np.average(lr_square_errors)\n",
    "lr_rmse = np.sqrt(lr_mse)\n",
    "lr_mae = np.average(lr_absolute_errors)"
   ],
   "metadata": {
    "collapsed": false,
    "pycharm": {
     "name": "#%%\n"
    }
   }
  },
  {
   "cell_type": "markdown",
   "source": [
    "##### Resultats"
   ],
   "metadata": {
    "collapsed": false
   }
  },
  {
   "cell_type": "code",
   "execution_count": 46,
   "outputs": [
    {
     "data": {
      "text/plain": "  Metriques  Valeurs pour Knn  Valeurs pour Regression linéaire\n0       MAE            0.7590                            0.6319\n1       MSE            1.3846                            0.7015\n2      RMSE            1.1767                            0.8375",
      "text/html": "<div>\n<style scoped>\n    .dataframe tbody tr th:only-of-type {\n        vertical-align: middle;\n    }\n\n    .dataframe tbody tr th {\n        vertical-align: top;\n    }\n\n    .dataframe thead th {\n        text-align: right;\n    }\n</style>\n<table border=\"1\" class=\"dataframe\">\n  <thead>\n    <tr style=\"text-align: right;\">\n      <th></th>\n      <th>Metriques</th>\n      <th>Valeurs pour Knn</th>\n      <th>Valeurs pour Regression linéaire</th>\n    </tr>\n  </thead>\n  <tbody>\n    <tr>\n      <th>0</th>\n      <td>MAE</td>\n      <td>0.7590</td>\n      <td>0.6319</td>\n    </tr>\n    <tr>\n      <th>1</th>\n      <td>MSE</td>\n      <td>1.3846</td>\n      <td>0.7015</td>\n    </tr>\n    <tr>\n      <th>2</th>\n      <td>RMSE</td>\n      <td>1.1767</td>\n      <td>0.8375</td>\n    </tr>\n  </tbody>\n</table>\n</div>"
     },
     "execution_count": 46,
     "metadata": {},
     "output_type": "execute_result"
    }
   ],
   "source": [
    "pd.DataFrame({\n",
    "    \"Metriques\": [\"MAE\", \"MSE\", \"RMSE\"],\n",
    "    \"Valeurs pour Knn\": [knn_mae, knn_mse, knn_rmse],\n",
    "    \"Valeurs pour Regression linéaire\": [lr_mae, lr_mse, lr_rmse],\n",
    "})"
   ],
   "metadata": {
    "collapsed": false,
    "pycharm": {
     "name": "#%%\n"
    }
   }
  },
  {
   "cell_type": "markdown",
   "source": [
    "Nous pouvons constater une nouvelle fois que l'algorithme de regression linéaire est bien meilleur que celui du kmean pour calculer les notes des élèves sur notre jeu de données.\n"
   ],
   "metadata": {
    "collapsed": false
   }
  },
  {
   "cell_type": "markdown",
   "source": [
    "### Pour ratio_G1+G2\n",
    "#### Pour les élèves de math"
   ],
   "metadata": {
    "collapsed": false
   }
  },
  {
   "cell_type": "code",
   "execution_count": 47,
   "outputs": [],
   "source": [
    "train_data, test_data = train_test_split(mat_formatted, test_size=0.3)\n",
    "\n",
    "train_data_g3 = train_data[\"ratio_G1+G2\"]\n",
    "train_data_for_g3 = train_data.drop(labels=[\"ratio_G1+G2\", \"G1\", \"G2\"], axis=1)\n",
    "test_data_g3 = test_data[\"ratio_G1+G2\"]\n",
    "test_data_for_g3 = test_data.drop(labels=[\"ratio_G1+G2\", \"G1\", \"G2\"], axis=1)\n"
   ],
   "metadata": {
    "collapsed": false,
    "pycharm": {
     "name": "#%%\n"
    }
   }
  },
  {
   "cell_type": "markdown",
   "source": [
    "##### Méthode Kmean"
   ],
   "metadata": {
    "collapsed": false
   }
  },
  {
   "cell_type": "code",
   "execution_count": 48,
   "outputs": [],
   "source": [
    "knn = KNeighborsClassifier()\n",
    "knn.fit(train_data_for_g3, train_data_g3)\n",
    "predictions = knn.predict(test_data_for_g3)\n",
    "\n",
    "knn_absolute_errors = np.abs(np.subtract(predictions, test_data_g3))\n",
    "knn_square_errors = np.square(knn_absolute_errors)\n",
    "\n",
    "knn_mse = np.average(knn_square_errors)\n",
    "knn_rmse = np.sqrt(knn_mse)\n",
    "knn_mae = np.average(knn_absolute_errors)"
   ],
   "metadata": {
    "collapsed": false,
    "pycharm": {
     "name": "#%%\n"
    }
   }
  },
  {
   "cell_type": "markdown",
   "source": [
    "##### Linear regression"
   ],
   "metadata": {
    "collapsed": false
   }
  },
  {
   "cell_type": "code",
   "execution_count": 49,
   "outputs": [],
   "source": [
    "from sklearn.linear_model import LinearRegression\n",
    "\n",
    "lr_reg = LinearRegression().fit(train_data_for_g3, train_data_g3)\n",
    "lr_results = lr_reg.predict(test_data_for_g3)\n",
    "\n",
    "lr_absolute_errors = np.abs(np.subtract(lr_results, test_data_g3))\n",
    "lr_square_errors = np.square(lr_absolute_errors)\n",
    "\n",
    "lr_mse = np.average(lr_square_errors)\n",
    "lr_rmse = np.sqrt(lr_mse)\n",
    "lr_mae = np.average(lr_absolute_errors)"
   ],
   "metadata": {
    "collapsed": false,
    "pycharm": {
     "name": "#%%\n"
    }
   }
  },
  {
   "cell_type": "markdown",
   "source": [
    "##### Resultats"
   ],
   "metadata": {
    "collapsed": false
   }
  },
  {
   "cell_type": "code",
   "execution_count": 50,
   "outputs": [
    {
     "data": {
      "text/plain": "  Metriques  Valeurs pour Knn  Valeurs pour Regression linéaire\n0       MAE            3.5126                            2.1168\n1       MSE           19.4454                            7.1094\n2      RMSE            4.4097                            2.6663",
      "text/html": "<div>\n<style scoped>\n    .dataframe tbody tr th:only-of-type {\n        vertical-align: middle;\n    }\n\n    .dataframe tbody tr th {\n        vertical-align: top;\n    }\n\n    .dataframe thead th {\n        text-align: right;\n    }\n</style>\n<table border=\"1\" class=\"dataframe\">\n  <thead>\n    <tr style=\"text-align: right;\">\n      <th></th>\n      <th>Metriques</th>\n      <th>Valeurs pour Knn</th>\n      <th>Valeurs pour Regression linéaire</th>\n    </tr>\n  </thead>\n  <tbody>\n    <tr>\n      <th>0</th>\n      <td>MAE</td>\n      <td>3.5126</td>\n      <td>2.1168</td>\n    </tr>\n    <tr>\n      <th>1</th>\n      <td>MSE</td>\n      <td>19.4454</td>\n      <td>7.1094</td>\n    </tr>\n    <tr>\n      <th>2</th>\n      <td>RMSE</td>\n      <td>4.4097</td>\n      <td>2.6663</td>\n    </tr>\n  </tbody>\n</table>\n</div>"
     },
     "execution_count": 50,
     "metadata": {},
     "output_type": "execute_result"
    }
   ],
   "source": [
    "pd.DataFrame({\n",
    "    \"Metriques\": [\"MAE\", \"MSE\", \"RMSE\"],\n",
    "    \"Valeurs pour Knn\": [knn_mae, knn_mse, knn_rmse],\n",
    "    \"Valeurs pour Regression linéaire\": [lr_mae, lr_mse, lr_rmse],\n",
    "})"
   ],
   "metadata": {
    "collapsed": false,
    "pycharm": {
     "name": "#%%\n"
    }
   }
  },
  {
   "cell_type": "markdown",
   "source": [
    "Le tableau ci dessous présentent les valuers des metriques MSE, RMSE et MAE pour les prédictions des algorithmes de regression linéaire.\n",
    "Ces différentes métriques se basent sur les erreurs des différents modes de prédiction.\n",
    "Plus une erreur est proche de zéro, plus la prédictionest juste. A l'inverse, plus l'erreur est grande, plus les erreurs de prédiction sont grandes.\n",
    "\n",
    "Nous pouvons donc constater que l'algorithme de regression linéaire est bien meilleur que celui du kmean pour calculer les notes des élèves sur notre jeu de données."
   ],
   "metadata": {
    "collapsed": false
   }
  },
  {
   "cell_type": "markdown",
   "source": [
    "#### Pour les élèves de portugais"
   ],
   "metadata": {
    "collapsed": false
   }
  },
  {
   "cell_type": "code",
   "execution_count": 51,
   "outputs": [],
   "source": [
    "train_data, test_data = train_test_split(por_formatted, test_size=0.3)\n",
    "\n",
    "train_data_g3 = train_data[\"ratio_G1+G2\"]\n",
    "train_data_for_g3 = train_data.drop(labels=[\"ratio_G1+G2\", \"G1\", \"G2\"], axis=1)\n",
    "test_data_g3 = test_data[\"ratio_G1+G2\"]\n",
    "test_data_for_g3 = test_data.drop(labels=[\"ratio_G1+G2\", \"G1\", \"G2\"], axis=1)\n"
   ],
   "metadata": {
    "collapsed": false,
    "pycharm": {
     "name": "#%%\n"
    }
   }
  },
  {
   "cell_type": "markdown",
   "source": [
    "##### Méthode Kmean"
   ],
   "metadata": {
    "collapsed": false
   }
  },
  {
   "cell_type": "code",
   "execution_count": 52,
   "outputs": [],
   "source": [
    "knn = KNeighborsClassifier()\n",
    "knn.fit(train_data_for_g3, train_data_g3)\n",
    "predictions = knn.predict(test_data_for_g3)\n",
    "\n",
    "knn_absolute_errors = np.abs(np.subtract(predictions, test_data_g3))\n",
    "knn_square_errors = np.square(knn_absolute_errors)\n",
    "\n",
    "knn_mse = np.average(knn_square_errors)\n",
    "knn_rmse = np.sqrt(knn_mse)\n",
    "knn_mae = np.average(knn_absolute_errors)"
   ],
   "metadata": {
    "collapsed": false,
    "pycharm": {
     "name": "#%%\n"
    }
   }
  },
  {
   "cell_type": "markdown",
   "source": [
    "##### Linear regression"
   ],
   "metadata": {
    "collapsed": false
   }
  },
  {
   "cell_type": "code",
   "execution_count": 53,
   "outputs": [],
   "source": [
    "from sklearn.linear_model import LinearRegression\n",
    "\n",
    "lr_reg = LinearRegression().fit(train_data_for_g3, train_data_g3)\n",
    "lr_results = lr_reg.predict(test_data_for_g3)\n",
    "\n",
    "lr_absolute_errors = np.abs(np.subtract(lr_results, test_data_g3))\n",
    "lr_square_errors = np.square(lr_absolute_errors)\n",
    "\n",
    "lr_mse = np.average(lr_square_errors)\n",
    "lr_rmse = np.sqrt(lr_mse)\n",
    "lr_mae = np.average(lr_absolute_errors)"
   ],
   "metadata": {
    "collapsed": false,
    "pycharm": {
     "name": "#%%\n"
    }
   }
  },
  {
   "cell_type": "markdown",
   "source": [
    "##### Resultats"
   ],
   "metadata": {
    "collapsed": false
   }
  },
  {
   "cell_type": "code",
   "execution_count": 54,
   "outputs": [
    {
     "data": {
      "text/plain": "  Metriques  Valeurs pour Knn  Valeurs pour Regression linéaire\n0       MAE            2.5487                            1.7521\n1       MSE           11.3692                            5.2105\n2      RMSE            3.3718                            2.2827",
      "text/html": "<div>\n<style scoped>\n    .dataframe tbody tr th:only-of-type {\n        vertical-align: middle;\n    }\n\n    .dataframe tbody tr th {\n        vertical-align: top;\n    }\n\n    .dataframe thead th {\n        text-align: right;\n    }\n</style>\n<table border=\"1\" class=\"dataframe\">\n  <thead>\n    <tr style=\"text-align: right;\">\n      <th></th>\n      <th>Metriques</th>\n      <th>Valeurs pour Knn</th>\n      <th>Valeurs pour Regression linéaire</th>\n    </tr>\n  </thead>\n  <tbody>\n    <tr>\n      <th>0</th>\n      <td>MAE</td>\n      <td>2.5487</td>\n      <td>1.7521</td>\n    </tr>\n    <tr>\n      <th>1</th>\n      <td>MSE</td>\n      <td>11.3692</td>\n      <td>5.2105</td>\n    </tr>\n    <tr>\n      <th>2</th>\n      <td>RMSE</td>\n      <td>3.3718</td>\n      <td>2.2827</td>\n    </tr>\n  </tbody>\n</table>\n</div>"
     },
     "execution_count": 54,
     "metadata": {},
     "output_type": "execute_result"
    }
   ],
   "source": [
    "pd.DataFrame({\n",
    "    \"Metriques\": [\"MAE\", \"MSE\", \"RMSE\"],\n",
    "    \"Valeurs pour Knn\": [knn_mae, knn_mse, knn_rmse],\n",
    "    \"Valeurs pour Regression linéaire\": [lr_mae, lr_mse, lr_rmse],\n",
    "})"
   ],
   "metadata": {
    "collapsed": false,
    "pycharm": {
     "name": "#%%\n"
    }
   }
  },
  {
   "cell_type": "markdown",
   "source": [
    "Nous pouvons constater une nouvelle fois que l'algorithme de regression linéaire est bien meilleur que celui du kmean pour calculer les notes des élèves sur notre jeu de données.\n",
    "\n",
    "## Conclusion\n",
    "\n",
    "Pour chacune de nos situations, la méthode de regression linéaire donne des erreurs plus faibles que l'alagithme du Knn. Cette méthode est donc à privilégier."
   ],
   "metadata": {
    "collapsed": false
   }
  }
 ],
 "metadata": {
  "kernelspec": {
   "display_name": "Python 3",
   "language": "python",
   "name": "python3"
  },
  "language_info": {
   "codemirror_mode": {
    "name": "ipython",
    "version": 2
   },
   "file_extension": ".py",
   "mimetype": "text/x-python",
   "name": "python",
   "nbconvert_exporter": "python",
   "pygments_lexer": "ipython2",
   "version": "2.7.6"
  }
 },
 "nbformat": 4,
 "nbformat_minor": 0
}